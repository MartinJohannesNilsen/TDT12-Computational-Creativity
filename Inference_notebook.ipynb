{
  "cells": [
    {
      "cell_type": "markdown",
      "metadata": {
        "id": "6poaJxqXyano"
      },
      "source": [
        "## Notebook setup"
      ]
    },
    {
      "cell_type": "markdown",
      "source": [
        "### Mount Google Drive"
      ],
      "metadata": {
        "id": "fqT5UghRwSi_"
      }
    },
    {
      "cell_type": "code",
      "source": [
        "from google.colab import drive\n",
        "drive.mount('/content/drive')"
      ],
      "metadata": {
        "colab": {
          "base_uri": "https://localhost:8080/"
        },
        "id": "S-j3U6C3wUC-",
        "outputId": "c7459a92-f7eb-46d2-9ce3-7fd45aa5a44f"
      },
      "execution_count": 1,
      "outputs": [
        {
          "output_type": "stream",
          "name": "stdout",
          "text": [
            "Mounted at /content/drive\n"
          ]
        }
      ]
    },
    {
      "cell_type": "markdown",
      "source": [
        "### Dependencies"
      ],
      "metadata": {
        "id": "iyBYk3KxvBuz"
      }
    },
    {
      "cell_type": "code",
      "execution_count": 2,
      "metadata": {
        "colab": {
          "base_uri": "https://localhost:8080/"
        },
        "id": "Jdg7OnonX0wf",
        "outputId": "a4d280e0-0d40-4acc-caad-81db4dfb4107"
      },
      "outputs": [
        {
          "output_type": "stream",
          "name": "stdout",
          "text": [
            "Looking in indexes: https://pypi.org/simple, https://us-python.pkg.dev/colab-wheels/public/simple/\n",
            "Requirement already satisfied: pandas in /usr/local/lib/python3.7/dist-packages (from -r /content/drive/MyDrive/ml_projects/tdt12_nlp_creative/requirements.txt (line 1)) (1.3.5)\n",
            "Requirement already satisfied: numpy in /usr/local/lib/python3.7/dist-packages (from -r /content/drive/MyDrive/ml_projects/tdt12_nlp_creative/requirements.txt (line 2)) (1.21.6)\n",
            "Requirement already satisfied: matplotlib in /usr/local/lib/python3.7/dist-packages (from -r /content/drive/MyDrive/ml_projects/tdt12_nlp_creative/requirements.txt (line 3)) (3.2.2)\n",
            "Collecting transformers\n",
            "  Downloading transformers-4.24.0-py3-none-any.whl (5.5 MB)\n",
            "\u001b[K     |████████████████████████████████| 5.5 MB 4.7 MB/s \n",
            "\u001b[?25hRequirement already satisfied: scikit-learn in /usr/local/lib/python3.7/dist-packages (from -r /content/drive/MyDrive/ml_projects/tdt12_nlp_creative/requirements.txt (line 5)) (1.0.2)\n",
            "Collecting demoji\n",
            "  Downloading demoji-1.1.0-py3-none-any.whl (42 kB)\n",
            "\u001b[K     |████████████████████████████████| 42 kB 1.7 MB/s \n",
            "\u001b[?25hCollecting pytorch-lightning==1.7.7\n",
            "  Downloading pytorch_lightning-1.7.7-py3-none-any.whl (708 kB)\n",
            "\u001b[K     |████████████████████████████████| 708 kB 67.4 MB/s \n",
            "\u001b[?25hCollecting aitextgen\n",
            "  Downloading aitextgen-0.6.0.tar.gz (572 kB)\n",
            "\u001b[K     |████████████████████████████████| 572 kB 71.8 MB/s \n",
            "\u001b[?25hCollecting torchmetrics>=0.7.0\n",
            "  Downloading torchmetrics-0.10.3-py3-none-any.whl (529 kB)\n",
            "\u001b[K     |████████████████████████████████| 529 kB 66.2 MB/s \n",
            "\u001b[?25hRequirement already satisfied: tensorboard>=2.9.1 in /usr/local/lib/python3.7/dist-packages (from pytorch-lightning==1.7.7->-r /content/drive/MyDrive/ml_projects/tdt12_nlp_creative/requirements.txt (line 7)) (2.9.1)\n",
            "Requirement already satisfied: packaging>=17.0 in /usr/local/lib/python3.7/dist-packages (from pytorch-lightning==1.7.7->-r /content/drive/MyDrive/ml_projects/tdt12_nlp_creative/requirements.txt (line 7)) (21.3)\n",
            "Requirement already satisfied: typing-extensions>=4.0.0 in /usr/local/lib/python3.7/dist-packages (from pytorch-lightning==1.7.7->-r /content/drive/MyDrive/ml_projects/tdt12_nlp_creative/requirements.txt (line 7)) (4.1.1)\n",
            "Requirement already satisfied: fsspec[http]!=2021.06.0,>=2021.05.0 in /usr/local/lib/python3.7/dist-packages (from pytorch-lightning==1.7.7->-r /content/drive/MyDrive/ml_projects/tdt12_nlp_creative/requirements.txt (line 7)) (2022.11.0)\n",
            "Requirement already satisfied: tqdm>=4.57.0 in /usr/local/lib/python3.7/dist-packages (from pytorch-lightning==1.7.7->-r /content/drive/MyDrive/ml_projects/tdt12_nlp_creative/requirements.txt (line 7)) (4.64.1)\n",
            "Requirement already satisfied: torch>=1.9.* in /usr/local/lib/python3.7/dist-packages (from pytorch-lightning==1.7.7->-r /content/drive/MyDrive/ml_projects/tdt12_nlp_creative/requirements.txt (line 7)) (1.12.1+cu113)\n",
            "Requirement already satisfied: PyYAML>=5.4 in /usr/local/lib/python3.7/dist-packages (from pytorch-lightning==1.7.7->-r /content/drive/MyDrive/ml_projects/tdt12_nlp_creative/requirements.txt (line 7)) (6.0)\n",
            "Collecting pyDeprecate>=0.3.1\n",
            "  Downloading pyDeprecate-0.3.2-py3-none-any.whl (10 kB)\n",
            "Requirement already satisfied: requests in /usr/local/lib/python3.7/dist-packages (from fsspec[http]!=2021.06.0,>=2021.05.0->pytorch-lightning==1.7.7->-r /content/drive/MyDrive/ml_projects/tdt12_nlp_creative/requirements.txt (line 7)) (2.23.0)\n",
            "Requirement already satisfied: aiohttp!=4.0.0a0,!=4.0.0a1 in /usr/local/lib/python3.7/dist-packages (from fsspec[http]!=2021.06.0,>=2021.05.0->pytorch-lightning==1.7.7->-r /content/drive/MyDrive/ml_projects/tdt12_nlp_creative/requirements.txt (line 7)) (3.8.3)\n",
            "Requirement already satisfied: aiosignal>=1.1.2 in /usr/local/lib/python3.7/dist-packages (from aiohttp!=4.0.0a0,!=4.0.0a1->fsspec[http]!=2021.06.0,>=2021.05.0->pytorch-lightning==1.7.7->-r /content/drive/MyDrive/ml_projects/tdt12_nlp_creative/requirements.txt (line 7)) (1.3.1)\n",
            "Requirement already satisfied: yarl<2.0,>=1.0 in /usr/local/lib/python3.7/dist-packages (from aiohttp!=4.0.0a0,!=4.0.0a1->fsspec[http]!=2021.06.0,>=2021.05.0->pytorch-lightning==1.7.7->-r /content/drive/MyDrive/ml_projects/tdt12_nlp_creative/requirements.txt (line 7)) (1.8.1)\n",
            "Requirement already satisfied: asynctest==0.13.0 in /usr/local/lib/python3.7/dist-packages (from aiohttp!=4.0.0a0,!=4.0.0a1->fsspec[http]!=2021.06.0,>=2021.05.0->pytorch-lightning==1.7.7->-r /content/drive/MyDrive/ml_projects/tdt12_nlp_creative/requirements.txt (line 7)) (0.13.0)\n",
            "Requirement already satisfied: multidict<7.0,>=4.5 in /usr/local/lib/python3.7/dist-packages (from aiohttp!=4.0.0a0,!=4.0.0a1->fsspec[http]!=2021.06.0,>=2021.05.0->pytorch-lightning==1.7.7->-r /content/drive/MyDrive/ml_projects/tdt12_nlp_creative/requirements.txt (line 7)) (6.0.2)\n",
            "Requirement already satisfied: async-timeout<5.0,>=4.0.0a3 in /usr/local/lib/python3.7/dist-packages (from aiohttp!=4.0.0a0,!=4.0.0a1->fsspec[http]!=2021.06.0,>=2021.05.0->pytorch-lightning==1.7.7->-r /content/drive/MyDrive/ml_projects/tdt12_nlp_creative/requirements.txt (line 7)) (4.0.2)\n",
            "Requirement already satisfied: attrs>=17.3.0 in /usr/local/lib/python3.7/dist-packages (from aiohttp!=4.0.0a0,!=4.0.0a1->fsspec[http]!=2021.06.0,>=2021.05.0->pytorch-lightning==1.7.7->-r /content/drive/MyDrive/ml_projects/tdt12_nlp_creative/requirements.txt (line 7)) (22.1.0)\n",
            "Requirement already satisfied: charset-normalizer<3.0,>=2.0 in /usr/local/lib/python3.7/dist-packages (from aiohttp!=4.0.0a0,!=4.0.0a1->fsspec[http]!=2021.06.0,>=2021.05.0->pytorch-lightning==1.7.7->-r /content/drive/MyDrive/ml_projects/tdt12_nlp_creative/requirements.txt (line 7)) (2.1.1)\n",
            "Requirement already satisfied: frozenlist>=1.1.1 in /usr/local/lib/python3.7/dist-packages (from aiohttp!=4.0.0a0,!=4.0.0a1->fsspec[http]!=2021.06.0,>=2021.05.0->pytorch-lightning==1.7.7->-r /content/drive/MyDrive/ml_projects/tdt12_nlp_creative/requirements.txt (line 7)) (1.3.3)\n",
            "Requirement already satisfied: pyparsing!=3.0.5,>=2.0.2 in /usr/local/lib/python3.7/dist-packages (from packaging>=17.0->pytorch-lightning==1.7.7->-r /content/drive/MyDrive/ml_projects/tdt12_nlp_creative/requirements.txt (line 7)) (3.0.9)\n",
            "Requirement already satisfied: setuptools>=41.0.0 in /usr/local/lib/python3.7/dist-packages (from tensorboard>=2.9.1->pytorch-lightning==1.7.7->-r /content/drive/MyDrive/ml_projects/tdt12_nlp_creative/requirements.txt (line 7)) (57.4.0)\n",
            "Requirement already satisfied: markdown>=2.6.8 in /usr/local/lib/python3.7/dist-packages (from tensorboard>=2.9.1->pytorch-lightning==1.7.7->-r /content/drive/MyDrive/ml_projects/tdt12_nlp_creative/requirements.txt (line 7)) (3.4.1)\n",
            "Requirement already satisfied: werkzeug>=1.0.1 in /usr/local/lib/python3.7/dist-packages (from tensorboard>=2.9.1->pytorch-lightning==1.7.7->-r /content/drive/MyDrive/ml_projects/tdt12_nlp_creative/requirements.txt (line 7)) (1.0.1)\n",
            "Requirement already satisfied: grpcio>=1.24.3 in /usr/local/lib/python3.7/dist-packages (from tensorboard>=2.9.1->pytorch-lightning==1.7.7->-r /content/drive/MyDrive/ml_projects/tdt12_nlp_creative/requirements.txt (line 7)) (1.50.0)\n",
            "Requirement already satisfied: tensorboard-data-server<0.7.0,>=0.6.0 in /usr/local/lib/python3.7/dist-packages (from tensorboard>=2.9.1->pytorch-lightning==1.7.7->-r /content/drive/MyDrive/ml_projects/tdt12_nlp_creative/requirements.txt (line 7)) (0.6.1)\n",
            "Requirement already satisfied: google-auth<3,>=1.6.3 in /usr/local/lib/python3.7/dist-packages (from tensorboard>=2.9.1->pytorch-lightning==1.7.7->-r /content/drive/MyDrive/ml_projects/tdt12_nlp_creative/requirements.txt (line 7)) (2.14.1)\n",
            "Requirement already satisfied: protobuf<3.20,>=3.9.2 in /usr/local/lib/python3.7/dist-packages (from tensorboard>=2.9.1->pytorch-lightning==1.7.7->-r /content/drive/MyDrive/ml_projects/tdt12_nlp_creative/requirements.txt (line 7)) (3.19.6)\n",
            "Requirement already satisfied: tensorboard-plugin-wit>=1.6.0 in /usr/local/lib/python3.7/dist-packages (from tensorboard>=2.9.1->pytorch-lightning==1.7.7->-r /content/drive/MyDrive/ml_projects/tdt12_nlp_creative/requirements.txt (line 7)) (1.8.1)\n",
            "Requirement already satisfied: absl-py>=0.4 in /usr/local/lib/python3.7/dist-packages (from tensorboard>=2.9.1->pytorch-lightning==1.7.7->-r /content/drive/MyDrive/ml_projects/tdt12_nlp_creative/requirements.txt (line 7)) (1.3.0)\n",
            "Requirement already satisfied: wheel>=0.26 in /usr/local/lib/python3.7/dist-packages (from tensorboard>=2.9.1->pytorch-lightning==1.7.7->-r /content/drive/MyDrive/ml_projects/tdt12_nlp_creative/requirements.txt (line 7)) (0.38.4)\n",
            "Requirement already satisfied: google-auth-oauthlib<0.5,>=0.4.1 in /usr/local/lib/python3.7/dist-packages (from tensorboard>=2.9.1->pytorch-lightning==1.7.7->-r /content/drive/MyDrive/ml_projects/tdt12_nlp_creative/requirements.txt (line 7)) (0.4.6)\n",
            "Requirement already satisfied: cachetools<6.0,>=2.0.0 in /usr/local/lib/python3.7/dist-packages (from google-auth<3,>=1.6.3->tensorboard>=2.9.1->pytorch-lightning==1.7.7->-r /content/drive/MyDrive/ml_projects/tdt12_nlp_creative/requirements.txt (line 7)) (5.2.0)\n",
            "Requirement already satisfied: pyasn1-modules>=0.2.1 in /usr/local/lib/python3.7/dist-packages (from google-auth<3,>=1.6.3->tensorboard>=2.9.1->pytorch-lightning==1.7.7->-r /content/drive/MyDrive/ml_projects/tdt12_nlp_creative/requirements.txt (line 7)) (0.2.8)\n",
            "Requirement already satisfied: rsa<5,>=3.1.4 in /usr/local/lib/python3.7/dist-packages (from google-auth<3,>=1.6.3->tensorboard>=2.9.1->pytorch-lightning==1.7.7->-r /content/drive/MyDrive/ml_projects/tdt12_nlp_creative/requirements.txt (line 7)) (4.9)\n",
            "Requirement already satisfied: six>=1.9.0 in /usr/local/lib/python3.7/dist-packages (from google-auth<3,>=1.6.3->tensorboard>=2.9.1->pytorch-lightning==1.7.7->-r /content/drive/MyDrive/ml_projects/tdt12_nlp_creative/requirements.txt (line 7)) (1.15.0)\n",
            "Requirement already satisfied: requests-oauthlib>=0.7.0 in /usr/local/lib/python3.7/dist-packages (from google-auth-oauthlib<0.5,>=0.4.1->tensorboard>=2.9.1->pytorch-lightning==1.7.7->-r /content/drive/MyDrive/ml_projects/tdt12_nlp_creative/requirements.txt (line 7)) (1.3.1)\n",
            "Requirement already satisfied: importlib-metadata>=4.4 in /usr/local/lib/python3.7/dist-packages (from markdown>=2.6.8->tensorboard>=2.9.1->pytorch-lightning==1.7.7->-r /content/drive/MyDrive/ml_projects/tdt12_nlp_creative/requirements.txt (line 7)) (4.13.0)\n",
            "Requirement already satisfied: zipp>=0.5 in /usr/local/lib/python3.7/dist-packages (from importlib-metadata>=4.4->markdown>=2.6.8->tensorboard>=2.9.1->pytorch-lightning==1.7.7->-r /content/drive/MyDrive/ml_projects/tdt12_nlp_creative/requirements.txt (line 7)) (3.10.0)\n",
            "Requirement already satisfied: pyasn1<0.5.0,>=0.4.6 in /usr/local/lib/python3.7/dist-packages (from pyasn1-modules>=0.2.1->google-auth<3,>=1.6.3->tensorboard>=2.9.1->pytorch-lightning==1.7.7->-r /content/drive/MyDrive/ml_projects/tdt12_nlp_creative/requirements.txt (line 7)) (0.4.8)\n",
            "Requirement already satisfied: urllib3!=1.25.0,!=1.25.1,<1.26,>=1.21.1 in /usr/local/lib/python3.7/dist-packages (from requests->fsspec[http]!=2021.06.0,>=2021.05.0->pytorch-lightning==1.7.7->-r /content/drive/MyDrive/ml_projects/tdt12_nlp_creative/requirements.txt (line 7)) (1.24.3)\n",
            "Requirement already satisfied: chardet<4,>=3.0.2 in /usr/local/lib/python3.7/dist-packages (from requests->fsspec[http]!=2021.06.0,>=2021.05.0->pytorch-lightning==1.7.7->-r /content/drive/MyDrive/ml_projects/tdt12_nlp_creative/requirements.txt (line 7)) (3.0.4)\n",
            "Requirement already satisfied: certifi>=2017.4.17 in /usr/local/lib/python3.7/dist-packages (from requests->fsspec[http]!=2021.06.0,>=2021.05.0->pytorch-lightning==1.7.7->-r /content/drive/MyDrive/ml_projects/tdt12_nlp_creative/requirements.txt (line 7)) (2022.9.24)\n",
            "Requirement already satisfied: idna<3,>=2.5 in /usr/local/lib/python3.7/dist-packages (from requests->fsspec[http]!=2021.06.0,>=2021.05.0->pytorch-lightning==1.7.7->-r /content/drive/MyDrive/ml_projects/tdt12_nlp_creative/requirements.txt (line 7)) (2.10)\n",
            "Requirement already satisfied: oauthlib>=3.0.0 in /usr/local/lib/python3.7/dist-packages (from requests-oauthlib>=0.7.0->google-auth-oauthlib<0.5,>=0.4.1->tensorboard>=2.9.1->pytorch-lightning==1.7.7->-r /content/drive/MyDrive/ml_projects/tdt12_nlp_creative/requirements.txt (line 7)) (3.2.2)\n",
            "Requirement already satisfied: pytz>=2017.3 in /usr/local/lib/python3.7/dist-packages (from pandas->-r /content/drive/MyDrive/ml_projects/tdt12_nlp_creative/requirements.txt (line 1)) (2022.6)\n",
            "Requirement already satisfied: python-dateutil>=2.7.3 in /usr/local/lib/python3.7/dist-packages (from pandas->-r /content/drive/MyDrive/ml_projects/tdt12_nlp_creative/requirements.txt (line 1)) (2.8.2)\n",
            "Requirement already satisfied: kiwisolver>=1.0.1 in /usr/local/lib/python3.7/dist-packages (from matplotlib->-r /content/drive/MyDrive/ml_projects/tdt12_nlp_creative/requirements.txt (line 3)) (1.4.4)\n",
            "Requirement already satisfied: cycler>=0.10 in /usr/local/lib/python3.7/dist-packages (from matplotlib->-r /content/drive/MyDrive/ml_projects/tdt12_nlp_creative/requirements.txt (line 3)) (0.11.0)\n",
            "Requirement already satisfied: filelock in /usr/local/lib/python3.7/dist-packages (from transformers->-r /content/drive/MyDrive/ml_projects/tdt12_nlp_creative/requirements.txt (line 4)) (3.8.0)\n",
            "Collecting huggingface-hub<1.0,>=0.10.0\n",
            "  Downloading huggingface_hub-0.11.0-py3-none-any.whl (182 kB)\n",
            "\u001b[K     |████████████████████████████████| 182 kB 65.7 MB/s \n",
            "\u001b[?25hRequirement already satisfied: regex!=2019.12.17 in /usr/local/lib/python3.7/dist-packages (from transformers->-r /content/drive/MyDrive/ml_projects/tdt12_nlp_creative/requirements.txt (line 4)) (2022.6.2)\n",
            "Collecting tokenizers!=0.11.3,<0.14,>=0.11.1\n",
            "  Downloading tokenizers-0.13.2-cp37-cp37m-manylinux_2_17_x86_64.manylinux2014_x86_64.whl (7.6 MB)\n",
            "\u001b[K     |████████████████████████████████| 7.6 MB 39.9 MB/s \n",
            "\u001b[?25hRequirement already satisfied: threadpoolctl>=2.0.0 in /usr/local/lib/python3.7/dist-packages (from scikit-learn->-r /content/drive/MyDrive/ml_projects/tdt12_nlp_creative/requirements.txt (line 5)) (3.1.0)\n",
            "Requirement already satisfied: joblib>=0.11 in /usr/local/lib/python3.7/dist-packages (from scikit-learn->-r /content/drive/MyDrive/ml_projects/tdt12_nlp_creative/requirements.txt (line 5)) (1.2.0)\n",
            "Requirement already satisfied: scipy>=1.1.0 in /usr/local/lib/python3.7/dist-packages (from scikit-learn->-r /content/drive/MyDrive/ml_projects/tdt12_nlp_creative/requirements.txt (line 5)) (1.7.3)\n",
            "Collecting fire>=0.3.0\n",
            "  Downloading fire-0.4.0.tar.gz (87 kB)\n",
            "\u001b[K     |████████████████████████████████| 87 kB 8.2 MB/s \n",
            "\u001b[?25hRequirement already satisfied: termcolor in /usr/local/lib/python3.7/dist-packages (from fire>=0.3.0->aitextgen->-r /content/drive/MyDrive/ml_projects/tdt12_nlp_creative/requirements.txt (line 8)) (2.1.0)\n",
            "Building wheels for collected packages: aitextgen, fire\n",
            "  Building wheel for aitextgen (setup.py) ... \u001b[?25l\u001b[?25hdone\n",
            "  Created wheel for aitextgen: filename=aitextgen-0.6.0-py3-none-any.whl size=576010 sha256=3773789a8ef17ef30d748abcb669e1494a46fbf501bb3dfce928f59172a92ba4\n",
            "  Stored in directory: /root/.cache/pip/wheels/eb/77/2a/993dcd2bf690ff75db487709aa0f770f15ea57a7f8ed088524\n",
            "  Building wheel for fire (setup.py) ... \u001b[?25l\u001b[?25hdone\n",
            "  Created wheel for fire: filename=fire-0.4.0-py2.py3-none-any.whl size=115943 sha256=7a24fb461bbc1336a6f71324839ca963a8277accfc83b2bbd2e26c3efe3833e1\n",
            "  Stored in directory: /root/.cache/pip/wheels/8a/67/fb/2e8a12fa16661b9d5af1f654bd199366799740a85c64981226\n",
            "Successfully built aitextgen fire\n",
            "Installing collected packages: torchmetrics, tokenizers, pyDeprecate, huggingface-hub, transformers, pytorch-lightning, fire, demoji, aitextgen\n",
            "Successfully installed aitextgen-0.6.0 demoji-1.1.0 fire-0.4.0 huggingface-hub-0.11.0 pyDeprecate-0.3.2 pytorch-lightning-1.7.7 tokenizers-0.13.2 torchmetrics-0.10.3 transformers-4.24.0\n"
          ]
        }
      ],
      "source": [
        "!pip install -r \"/content/drive/MyDrive/ml_projects/tdt12_nlp_creative/requirements.txt\""
      ]
    },
    {
      "cell_type": "markdown",
      "metadata": {
        "id": "RVzQXcRpyhd6"
      },
      "source": [
        "### Python Imports"
      ]
    },
    {
      "cell_type": "code",
      "execution_count": 3,
      "metadata": {
        "id": "DVIvNJcNX0wh"
      },
      "outputs": [],
      "source": [
        "# File/string operations\n",
        "DATA = \"/content/drive/MyDrive/ml_projects/tdt12_nlp_creative\"\n",
        "import shutil\n",
        "import os\n",
        "# Logging\n",
        "import logging\n",
        "logging.basicConfig(\n",
        "        format=\"%(asctime)s — %(levelname)s — %(name)s — %(message)s\",\n",
        "        datefmt=\"%m/%d/%Y %H:%M:%S\",\n",
        "        level=logging.INFO\n",
        "    )\n",
        "# Model operations\n",
        "from aitextgen import aitextgen"
      ]
    },
    {
      "cell_type": "markdown",
      "source": [
        "## Model Inference"
      ],
      "metadata": {
        "id": "_aOxaDiRzVme"
      }
    },
    {
      "cell_type": "markdown",
      "source": [
        "### Copy fine-tuned model from Google Drive to Colaboratory VM\n"
      ],
      "metadata": {
        "id": "5LidMXBbv6G7"
      }
    },
    {
      "cell_type": "code",
      "source": [
        "model_dir = \"ATG_20221123_163129\"\n",
        "shutil.copytree(f\"{DATA}/trained_models/{model_dir}\", f\"./trained_model\")"
      ],
      "metadata": {
        "colab": {
          "base_uri": "https://localhost:8080/",
          "height": 37
        },
        "id": "5JH4PvKMx2Mn",
        "outputId": "d46a028e-c0e9-4995-ff41-25a6b3fbe1aa"
      },
      "execution_count": 4,
      "outputs": [
        {
          "output_type": "execute_result",
          "data": {
            "text/plain": [
              "'./trained_model'"
            ],
            "application/vnd.google.colaboratory.intrinsic+json": {
              "type": "string"
            }
          },
          "metadata": {},
          "execution_count": 4
        }
      ]
    },
    {
      "cell_type": "markdown",
      "source": [
        "### Load model"
      ],
      "metadata": {
        "id": "KFgsqpRMS8g0"
      }
    },
    {
      "cell_type": "code",
      "source": [
        "ai = aitextgen(model_folder=\"./trained_model\", to_gpu=True)"
      ],
      "metadata": {
        "id": "cFZ8URDxS-C5",
        "colab": {
          "base_uri": "https://localhost:8080/"
        },
        "outputId": "d8dd1e1c-8639-41c2-db7c-8630c36700d4"
      },
      "execution_count": 5,
      "outputs": [
        {
          "output_type": "stream",
          "name": "stderr",
          "text": [
            "INFO:aitextgen:Loading model from provided weights and config in /./trained_model.\n",
            "/usr/local/lib/python3.7/dist-packages/transformers/configuration_utils.py:370: UserWarning: Passing `gradient_checkpointing` to a config initialization is deprecated and will be removed in v5 Transformers. Using `model.gradient_checkpointing_enable()` instead, or if you are using the `Trainer` API, pass `gradient_checkpointing=True` in your `TrainingArguments`.\n",
            "  \"Passing `gradient_checkpointing` to a config initialization is deprecated and will be removed in v5 \"\n",
            "INFO:aitextgen:GPT2 loaded with 354M parameters.\n",
            "INFO:aitextgen:Using the default GPT-2 Tokenizer.\n"
          ]
        }
      ]
    },
    {
      "cell_type": "markdown",
      "source": [
        "### Generate a training scheme\n"
      ],
      "metadata": {
        "id": "bcepmlXq1LEH"
      }
    },
    {
      "cell_type": "code",
      "source": [
        "setup = {\n",
        "    #\"temperature\": [0.1, 0.3, 0.5, 0.7, 0.9],\n",
        "    \"top_k\": [10, 20, 30, 40, 50],\n",
        "    #\"top_p\": [0.6, 0.75, 0.9, 1.0]\n",
        "}\n",
        "\n",
        "# Top-p is usually set to a high value (like 0.75) with the purpose of limiting the long tail of low-probability tokens that may be sampled. We can use both top-k and top-p together. If both k and p are enabled, p acts after k."
      ],
      "metadata": {
        "id": "wDyoIEpN5gFo"
      },
      "execution_count": 9,
      "outputs": []
    },
    {
      "cell_type": "markdown",
      "source": [
        "### Run inference and save to file"
      ],
      "metadata": {
        "id": "Db19TDa3cJpc"
      }
    },
    {
      "cell_type": "code",
      "source": [
        "from collections import defaultdict\n",
        "\n",
        "res = defaultdict(list)\n",
        "for key, values in setup.items():\n",
        "  for i in range(10):\n",
        "    out = []\n",
        "    for value in values:\n",
        "      texts = ai.generate(n=1,\n",
        "                          prompt=f\"{i+1}<|rating|>\",\n",
        "                          prepend_bos=None,\n",
        "                          min_length=100,\n",
        "                          max_length=300,\n",
        "                          temperature=value if key == \"temperature\" else 0.7,\n",
        "                          top_k=value if key == \"top_k\" else 50, # Limits sampled tokens to the top k values\n",
        "                          top_p=value if key == \"top_p\" else 1.0, # Limits sampled tokens to the cumulative probability\n",
        "                          #num_beams=2, # If greater than 1, executes beam search for cleaner text\n",
        "                          #repetition_penalty=1.0, # If greater than 1.0, penalizes repetition in a text to avoid infinite loops\n",
        "                          #length_penalty=1.0, # If greater than 1.0, penalizes text proportional to the length\n",
        "                          do_sample=True,\n",
        "                          return_as_list=True,\n",
        "                          )\n",
        "      out.append(f\"{key}:{value}\")\n",
        "      for text in texts:\n",
        "        out.append(text)\n",
        "    res[key].append(out)\n",
        "\n",
        "# Out array\n",
        "out_array = []\n",
        "for key, item in res.items():\n",
        "  header = \"-\"*3 + key + \"-\"*3\n",
        "  print(header)\n",
        "  out_array.append(header)\n",
        "  for i, rating in enumerate(item):\n",
        "    rating_text = \"-\"*15 + f\"\\n  Rating: {i+1}\\n\" + \"-\"*15\n",
        "    print(rating_text)\n",
        "    out_array.append(rating_text)\n",
        "    for j, review in enumerate(rating):\n",
        "      review_text = \"'\" + review.split(\"<|rating|>\")[-1] + \"'\"\n",
        "      print(review_text.rstrip())\n",
        "      out_array.append(review_text.rstrip())\n",
        "    print()\n",
        "    out_array.append(\"\")    \n",
        "  \n",
        "# Experiments\n",
        "i = 0\n",
        "while os.path.exists(f\"{DATA}/output/aitextgen/experiment_run{i}.txt\"):\n",
        "  i += 1\n",
        "file_name = f\"{DATA}/output/aitextgen/experiment_run{i}.txt\"\n",
        "with open(file_name, 'w+') as f:\n",
        "    for item in out_array:\n",
        "        f.write(f\"{item}\\n\")\n"
      ],
      "metadata": {
        "colab": {
          "base_uri": "https://localhost:8080/"
        },
        "id": "gx90dZCN51hs",
        "outputId": "5d754816-f7b6-4ccf-e397-d55189cf018a"
      },
      "execution_count": 10,
      "outputs": [
        {
          "output_type": "stream",
          "name": "stdout",
          "text": [
            "---top_k---\n",
            "---------------\n",
            "  Rating: 1\n",
            "---------------\n",
            "'top_k:10'\n",
            "'I don't understand the high ratings for this film. I was so bored and I couldn't stop thinking about it. I don't blame the film for that. The movie itself is so horrible. The acting is atrocious. It seems like the actors were in it, for the most part. It's like they were having too much money. They were given the material that they were given. I don't know what they were thinking, for example, the one scene that he was having a conversation with the girl, the other time he said \"\"I don't know what you will do\"\". I don't know what the hell they were doing. It's too much. The only good thing I can say is that they should have left it to them. It's too much. If they should have just kept telling that this movie would have been better. I would have given it a zero. If I had gone out there, I would have given it a zero if that would have been possible. I am not sure what the hell was. I'm sure that the film is going to be a sequel. Maybe I was wrong. I'm not sure who the hell are, but I can't blame them. I don't know what the hell is. I know what I thought when I saw this movie, and I thought \"\"We know that we will be seeing this movie\"\". The only reason I gave it a 2 was because I thought'\n",
            "'top_k:20'\n",
            "'It was not bad enough to keep it going - the movie was pretty good, so far. But the movie was not as good as Infinity War, and I don't think it is as good as Infinity War, and the only reason I gave it a 2 is that the movie is not worth the price of admission. I will never be disappointed, and I did not want to give it a 10 or two because it was too much of a disappointment. The movie was nothing, it was just too much for me. It is a total waste of time. I will never see this again, and I will never be able to save anyone else's money. I am going to give this movie a 4.0.1 out of 5.\"\n",
            "'\n",
            "'top_k:30'\n",
            "'This film was a waste of time. The plot was not even entertaining! The first time I saw it, I realized this was a horrible movie. This was one of the worst movies I've ever seen. I couldn't stop thinking about it. I'm so glad I did. It was so bad I didn't think I could stop watching it. I was left with a feeling that was so fake as to be a total waste of time, that I couldn't stop thinking about it. I did not like the movie. I am very disappointed. I don't feel like we should to have a good time. I could only wonder if I ever get back. I was hoping the movie was going to be a good movie, it was so bad it was. Maybe I had a good time watching this movie. I don't think I was watching it. I didn't feel bored. I was hoping I had a good time watching this movie. I didn't want to watch this movie. I was so disappointed.\"\n",
            "'\n",
            "'top_k:40'\n",
            "'This is one of the worst movies ever made. The plot was awful and the acting was horrible. The story was horrible from the beginning. The cast was nothing more than a total piece of trash. What was the hell was going to do with this movie? I don't know what people thought. The only thing I can think about this movie was the scene where you look at the camera. I can't blame the direction that this movie is working on. I can only blame the actors who did the job. The only reason that this movie was directed by Michael Caine. I don't know what to imagine. The cinematography and the direction was terrible. The cinematography which was very forced. The editing was very choppy. The effects. The only thing that seemed to work was the soundtrack. Just a total waste of time.\"\n",
            "'\n",
            "'top_k:50'\n",
            "'I don't know what to say. This is a very disappointing film. It was a disappointment - as it is supposed to be - likeable characters who are not as important as the characters are. I guess the filmmakers were trying to make a movie about a character that could have been a very powerful story. It's too much, too. I love the story of the characters. They just don't make up their relationship, especially when they are going to work together. The characters seemed more like they were just there to get the story going. They just don't work. They don't go along, so they don't have any clue about the things they are going to spend anymore. They don't even know what to do with the two, and the only reason they are going to do anything is to show their feelings. They don't have any of them. They don't have any logic. They don't. They just don't add anything to the story. They just don't have any idea what they wish. They just don't know what to do with the characters. They just don't connect, they just don't work together. I don't care for them. They just don't work. They just don't know what to do with the character. I know it is about two people that don't know what to do with the relationship that will happen. It's more like a good friend that is going to stay with you.'\n",
            "\n",
            "---------------\n",
            "  Rating: 2\n",
            "---------------\n",
            "'top_k:10'\n",
            "'For me the only thing I can say about this movie, is the plot. The plot is very predictable, the acting is horrible, the direction is terrible, the cinematography is horrible, the sound is terrible, the acting is mediocre, it's just too much for this movie. I don't know how to describe this movie. I have no idea what to do with the movie. It's just a bunch of people who are just trying to make a movie. I was laughing through the first 5 minutes. It's too long for it. I don't know why. I'm glad I did. I just didn't care about what the characters could do. I can't care about them. I don't care about them. I don't know who they are. I was bored. I don't care about them. They were only about 45 minutes longer. I don't care about them. I didn't care for the characters. I don't care about them. They were just so bland. I don't know about the characters. They had nothing to do with their actions. They just seemed to be trying to keep the movie going. The only thing I really liked was the ending. I didn't know what happened. I didn't care about them. I didn't care about them. They didn't have any suspense in the movie. I don't know who the hell was going to be. I didn't know why. I don'\n",
            "'top_k:20'\n",
            "'The film was very good. I can't fault anything else, but I am still trying to get a good time at the movies. What it is really about is a good movie. It's a good movie, but not as good as some people who have already already seen this. I can't fault the movie. I am not sure where to start. It's a slow moving movie that doesn't fit together well with the rest of the film. It is only good, but it is not a very good one. There are very few redeeming qualities to the movie. I'm just trying to blame the acting. I can't fault any of the characters. The story is not as good as the previous movie. I don't know what to do with the movie. I do not like. I don't like the movie for what it was. I don't know what to do with the storyline, and some of the effects. But I think the movie would have been better as a good movie, and not a great movie. There is only one scene where the movie is on and the end of the movie. I cannot fault the movie for that. But the movie itself is not very convincing. It's a very good movie.\"\n",
            "'\n",
            "'top_k:30'\n",
            "'I am shocked that I am a huge fan of this film, I must admit I am watching it as I watched this film, so I was very disappointed. It was too much and too much time is too much to be wasted. The dialogue just seemed to have nothing to do with the plot. I mean, what a disappointment. I mean, the script was terrible, the dialogue was atrocious. Someone gave it a 2 for the script. I know, I mean, a 3. I had nothing to do with the story, but I didn't go into it. I am a fan.\"\n",
            "'\n",
            "'top_k:40'\n",
            "'This is an insult to the plot. They had the story line as a ruse of cash. This was the worst of the films I've seen. The characters in this movie were so bland and shallow that they were so unnatural and forced in the first place. The acting was so poor, the directing was horrible, the score was terrible, the editing was terrible, and the pace was horrible. The direction was terrible, the editing was horrible, the editing was horrible, the editing was terrible, the direction was horrible, and the direction was terrible. I can't fault the film. The only problem I can think of was the ending. I would have liked to see more of the characters. I would have given it a 7.9 rating.\"\n",
            "'\n",
            "'top_k:50'\n",
            "'I've just seen this film. It's only 5 minutes long. it's a total waste of time. A total wasted of precious money. I don't know what the hell was the deal with a plot that was forced across. I don't know what I expected. 1. You would have been better off watching this film. But don't waste your time on this film.2. The story is so weak that it is so predictable. There is nothing new to the movie that would so much suspense in a film like this. How did the actors' money be wasted on the film? All of the actors in the movie were okay. But the story was just too predictable.4. The ending. I don't think any other person could have done a better job. 4. It was too predictable. I don't know what will the next. 4. If you want to see a good film, and then you must have just done this. Then you have a bad movie. 4. When you want to see a good movie watch the \"\"Scream\"\" in the theater. 3. If you watch this movie. 5. If you want to see a great movie. Maybe I would give it a zero. Or 10.'\n",
            "\n",
            "---------------\n",
            "  Rating: 3\n",
            "---------------\n",
            "'top_k:10'\n",
            "'This movie is really bad. It is so predictable. I am not a fan of the genre, but I have a problem with it. I didn't get caught up in the hype surrounding this movie. I don't care about the characters or the plot. The only good thing about this movie was the acting. I don't know what to say about this movie. However, I'm not sure who the hell is the main character. I don't know what to do with the characters. I thought the movie was just too long. I was wondering how the hell was going to be like. I don't know how. I don't mind the movie. It is the only good thing about the movie. I thought the acting was bad. I don't know what to do with this movie. I just don't know what it's. I don't know if this was going to be a good movie. I don't know what to do with the movie. I don't know what to do with it's plot. I can't blame the actors. I don't know who the hell was. I don't know what to do with the film. It was so predictable and predictable. I don't know what to do with the movie. I didn't know what to do with the characters. I don't know where to start. I don't know what to do with the movie. I don't know what to do with the movie.'\n",
            "'top_k:20'\n",
            "'I don't know what people were thinking about the movie. First off I think it was the one to do with the first two Thor movies. I didn't think they had any surprises to the movie. I don't know what I'm saying about that. I don't know what you're going to do with the movie. First off, I don't know what the hell was going to happen. The movie itself is too long and it was too long. It was too long. I don't know what it was thinking, and I don't know what it was thinking. It wasn't worth the price of admission. The only thing I can do is give it a 2 stars. I'm pretty sure they should have kept telling my story.I don't know what I expected from these two movies. I can't understand the money. The story itself is so predictable. I don't understand the reasons that any of them didn't have to work together. The movie itself was so predictable. I don't know what it was thinking in the movie. I don't know what they were thinking with this movie. I don't know what the hell was going on with the script.\"\n",
            "'\n",
            "'top_k:30'\n",
            "'I was trying to see a good movie. I was not disappointed with it. One of the things I thought was the best movie that I have ever seen. The plot is not terrible at all. The acting is good and it is well acted although the script is just a joke. I can't blame the actors for the acting. There is nothing really new here. There is nothing special. I don't know who the hell was. The only thing I thought would have to do was see the film. The acting is too predictable. They are only there to make the movie. The movie itself is just so too predictable. The only thing I could liked was that it wasn't bad. The only reason I was not disappointed. I could watch it only on my own. If you want to give a good movie go see \"\"The Dark Knight\"\", and \"\"The Dark Knight\"\". You have a good time to watch it. I'm sure I can do it by time. But, you're not just a bad movie.\"\n",
            "'\n",
            "'top_k:40'\n",
            "'The only thing that can be said about this movie is the ending. It's a love story that is so cliché that it's supposed to be a romantic comedy. The only thing that makes it so bad is the ending. The ending is so predictable and predictable. The acting is horrible, the score is horrible, and the effects are terrible. The storyline is too much. It's like a good movie, not a good one. I'm not sure if the director went to hell with this movie. I don't know what that means for the movie.\"\n",
            "'\n",
            "'top_k:50'\n",
            "'This is a very similar film with the first, and the second. The first two would have had a nice bit more tension. The first two had more than a good time with each other. I like the first two, when the second one was in the car, and the first two got a ride by them. The second one had a little more suspense and I liked the first two. I was sure the movie would have been better if they had had avoided the consequences of this and have just had a baby to sleep.\"\n",
            "'\n",
            "\n",
            "---------------\n",
            "  Rating: 4\n",
            "---------------\n",
            "'top_k:10'\n",
            "'I don't think it would've been that much more interesting to spend more time with this movie. I have a problem with the movie, which I can't blame on the movie. I don't know what to blame about. I can't fault the movie for the performances. I don't want to blame it for the actors who do a good job. They are just so bland. I don't know what to do with them. I don't know what to do with the movie. They don't have any chemistry. They don't have any chemistry. They only have to have a few lines. They just don't seem to be the same age as the movie. I don't know what the hell they are trying to say. And that's not to say I didn't want to see the movie. I don't know what a problem with these two characters. I don't know what they were thinking. I don't know about the other movies, but I'm sure they are. I thought they were a very good one to watch. I don't know what to say, but I don't think any other movie is a good movie. I thought it was a good movie. I thought the movie wasn't great. But after reading the book, I was thinking, \"\"Oh, and I'm going to get a good movie.\"\"\"\n",
            "'\n",
            "'top_k:20'\n",
            "'This film's only thing about it is that the acting is terrible and the writing is horrible. The story is nothing but a plot device with no discernible plot line. The acting is wooden, the cinematography is appalling, the editing is horrible, the score is terrible, the special effects are bad, the editing is terrible, the effects are terrible, and the score is mediocre. However, the film's problem is that it should have been able to make a decent movie. The film's plot, which is so predictable that it is hard to follow. I could have said a lot more about it. Maybe I'm just too much a fan of sci-fi movies, but I'm also a fan of sci-fi movies.\"\n",
            "'\n",
            "'top_k:30'\n",
            "'I would rather be watching another movies about the characters. They were so forced into one movie, they could have had more time. I don't think I saw a single good movie in this movie. I'm sure what they were trying to do, and how they were able to do a movie, and that's all they could have. I had so much respect for what they were trying to do. I hope the movie makers will continue to be upset. I have to give it a 4.\"\n",
            "'\n",
            "'top_k:40'\n",
            "'This has to be one of the worst movies I've ever seen. I had an expectation about this movie. I wasn't really impressed. I didn't really get to see it anymore. I was bored. I was laughing. I was wondering how I could get back. I was thinking, \"\"wow, this was the worst movie i've ever seen in my life\"\" (not sure what the hell was with the \"\"Friends\"\"). I don't know who the hell is. I kept wondering if my friend thought it was entertaining. I could have kept thinking and for the first 15 minutes an hour. I didn't care about the movie because no one in the movie ever got back. I don't know what the hell was going on. I don't want to see any movies that try to make you think about the movie. I do not really know them. I just don't care about the movie. I don't care about the characters.I just don't care'\n",
            "'top_k:50'\n",
            "'I was watching this film on a television station. I was not sure the title sequence at the beginning of the film, and I was left with a disappointment. The only thing I can see is the ending that the film doesn't have enough of a clue of what the hell is going on. I really don't understand the ending. What a disappointment. I'm sure that the film makers should have just left the film with the same issue. I don't know what I would have predicted. I don't know what the hell was supposed to be really about. I don't know where the hell was going to happen. I don't know what the hell was going on in this film. I don't know, but I guess I don't know what the hell was. I don't know what a hell was going on in the book (which I did not know what to expect from the book). If I had been so moved by the movie, I was surprised. The only thing I can think about it is the ending. I'm pretty sure that I've seen before (which I should have thought was a good sign. I'm glad I did) I didn't think I'd stop going to see it. I didn't like the ending. At least I was. I did not believe that the ending was going to be good. I don't know what to expect. I don't know how I will go about the plot. I don'\n",
            "\n",
            "---------------\n",
            "  Rating: 5\n",
            "---------------\n",
            "'top_k:10'\n",
            "'I was looking forward to seeing this film, and I was really disappointed. The acting is terrible. I found the film a very weak film. I don't understand the hype surrounding this film. It was very disappointing. The ending scenes seemed like an extended montage of scenes. I thought the movie would have been better if it wasn't for the story. I don't think anything else could have been better. I don't know who the killer is. I don't think I can understand the motive that he is. I don't know where to go. The ending was very disappointing. It is a little bit confusing and unsatisfactory. I don't know what to expect from a movie that has a very similar plot. The ending was very disappointing. I didn't think that it would have been good. I didn't expect much from this film. I did not know what to expect from a horror film.\"\n",
            "'\n",
            "'top_k:20'\n",
            "'Don't get me wrong with this film. I don't care about the characters. I don't want to spoil too much time. I don't care for them. I don't get to see the other actors (probably) in this film. I don't know what to do with their roles. I don't know why. I thought they had a solid script. I was pleased with the two leading ladies. They had some good performances. I was hoping that the writer and director would have been able to do better, and they did that. If I was not right. One thing I thought was not very believable. The story is weak and weak and the cast are no longer there. The script is mediocre. The ending is bad. This is a movie that looks like it was written by a school play. I hope I saw this movie. If I'm not, I was left. I would have liked to have the ending of the film. I can't fault myself about it.\"\n",
            "'\n",
            "'top_k:30'\n",
            "'I just don't understand that it is a film that's not great in it's own right, I don't think it's a good film. First off, there is a very little bit of a mystery. It's a lot more to be desired about this film, but I thought it was entertaining and entertaining at first. The first two \"\"The Stranger\"\" and \"\"Silence of the Lambs\"\" films are a lot more entertaining. At the end of the film, the first two were the best. But then the story is about two people that are getting caught up in the story. First, the second of the three people are the two. They have a strange relationship with each other. They have an affair with each other. They are both very close friends. I don't know if they would be together at all, they have the same problems with each other. They have a relationship which works for this. The relationship that creates is a lot more of suspense. The relationship is a little more than a comedy, as a character we have to know. The chemistry of the two leads is pretty much perfect for the time. The chemistry is good and the chemistry is good. It's clear that they have the same problems with each other. I don't know what they are going to do with the two. They are both in the same mood. I can't blame them as actors. They have a different bond as well as the characters.'\n",
            "'top_k:40'\n",
            "'It is not a bad film for a low budget movie, although this movie is a badly written screenplay. Very low budget movie that was very poorly written, and the acting was mediocre. The story was very weak and very little of the acting was mediocre. It was a very poor film. The only good thing about this film was the scenery. I was not sure if I should blame any of the actors who played them. The special effects were good enough to make an average movie. The only good thing about this film was the effects. The cinematography. The cinematography was okay as well as the acting. I can't blame the actors who were in the movie. They look like they should have had lower the speed of the filming. It was a very disappointing film.\"\n",
            "'\n",
            "'top_k:50'\n",
            "'This is one of those movies that is so predictable that it takes a second to get a chance to show any of the characters (if there is one thing that has been said about this movie that I have I have a problem with, you know you are not going to enjoy watching them. Not only that, but the dialogue is so predictable that it takes you out of the movie wondering whether the acting is good or bad enough. I have no problem with the acting. The film is atrocious, the editing is terrible, and the storyline is atrocious. The only good thing is the cinematography. It is very similar to the movie. The story is a copy of that. The action is terrible, the directing is atrocious, the plot is just terrible, the acting is atrocious. It feels like the director forgot what he was doing. The CGI effects (which is so much more of a story than a script) are so badly designed for a film that would have worked better. The movie does not mean you need to be taken in such a way to get a good story. I don't mean to be scared by the movie to know what you are doing. The movie itself is nothing but a big disappointment. I don't mind the fact that the acting is terrible. I did not like the movie as it is an action movie. I didn't think it was going to be any more than a drama. I did not like the movie'\n",
            "\n",
            "---------------\n",
            "  Rating: 6\n",
            "---------------\n",
            "'top_k:10'\n",
            "'This film is not a good movie, but it is good enough to be good. The acting is good, the cinematography is good, the score is mediocre, and the ending is good, the story is good, the cinematography is good, the score is good, it is entertaining and the cinematography is good.I can't fault this movie for the performances, but the storyline is good, the effects, the score is good, the score was good. The story is good, the acting is good, the story is good, the editing is good, the story is good, and the action sequences are good. The cinematography is good, the cinematography is good, the direction was good, the music was good, the effects looked good, the score was good. I don't mind the fact that the only thing I can think about the film is the soundtrack. I'm glad I did. I can't blame the movie as much as the ending. I will admit there is one good thing about this movie that I thought would have liked more. The movie is the best movie I have ever seen but it is the worst movie I have ever seen. The ending. It was not worth the price of admission. I thought a lot of the actors who are in this movie, I thought. I didn't think I would have liked a lot more. The only reason I gave it a watch was because the plot was pretty weak. I'\n",
            "'top_k:20'\n",
            "'I don't know what this movie would have done. I don't think I thought it was the worst of the three leads. The only good thing about this movie was its scene with the other. I thought that if you thought that the movie was funny then you should get a look at it. And the other thing I thought was that the movie is just too bad. I was disappointed to see the movie. I don't know what to do with these two, but it was certainly too good. I'm not sure who it was. I don't know who it was. I don't know who I'm trying to see. I don't know what to do with this movie. I don't know who the hell were. I don't know what to do with the movie. I don't know who the killer was. It's too much of a mystery that they had no idea what to do with the movie. I don't know what the killer was trying to do with the movie. The movie is so bad it's good to watch it, but that's not all to take away. I don't know what to do with the movie. I'm sure I will have to do with the movie. I don't know who the killer is. I don't know what the killer is. I don't know who he is, and no clue who he is. I don't know who he is. I don't care about the'\n",
            "'top_k:30'\n",
            "'I am a big fan of the film, and I loved the film. I thought it was a good way to portray a very powerful character. But the story line was just about a man who is trying to get a job to fix a crime. I don't mind the film, but I think I was wrong. I don't need to see too much of the film, especially since the film is about two people. I don't think I can fault any of them. I don't want to waste too much time on this film. I was a fan of the movie, as I was seeing the movie. But there were so much time to go and go and the pace of the movie made it not fit in. I don't want to ruin anything, but I am saying that the movie is a good movie.\"\n",
            "'\n",
            "'top_k:40'\n",
            "'I was so excited to see a movie that was so well written and well written. I was so looking forward to the end of the film. But I was disappointed. Not only was it a disappointment, but it was a good movie. Not only do I wish they would have had a more coherent plot. The only good thing was that the characters in the movie are actually have their lines. A few are good, but you need to see more of them. There is a lot of talent and money to speak about, especially for the people that worked on this. I would like to see more of them, especially the people they work with. I don't think I could be wrong. I didn't like what they were trying to do with the film. At times, they kept becoming more of a part of the story. I didn't like the film. It seemed like it had gone for the sake of the plot. For the first 10 minutes, I was disappointed. It seemed like they had lost all respect for the characters. It was a very good movie, and certainly an entertaining one. I think I would do a better job than watch this movie. It wasn't a good movie. Just a very good movie. I'm sure they could have kept the story from the beginning until the end of the film. I was glad they did it. I don't know what the hell was doing with it. They had a great job on the'\n",
            "'top_k:50'\n",
            "'This movie would have been better if they had been so much more than $5 million to get to the hotel. I was struck by how bad this movie is. I couldn't say it was the worst movie I've ever seen. I've seen better movies. I will have to mention that I did not like it either. I will never see it again. I gave it a 4.5 because it's a movie that's too much for a horror movie. I can't blame the actors for their performances. They did a very good job. They had enough time to do a great job. I wasn't sure who was the killer. It wasn't clear who was who the killer. Who knows? I don't know what the killer was. I don't know what to do with any other people. I don't care about the actors or how they're shooting. I just don't care about what happens. I don't know how I feel like anyone should be shooting it. I just don't care about them. I don't know what the crew could have done with their actors. They had nothing to do with what they had. I didn't expect that they was in the movie. He didn't seem to be shooting it. I saw nothing. I don't know what to do with this movie. I don't know what was the killer. I don't know what will happen with the killer. I don't know who a'\n",
            "\n",
            "---------------\n",
            "  Rating: 7\n",
            "---------------\n",
            "'top_k:10'\n",
            "'The movie itself is not as well as the other movie. But it is a movie that is not as good as the first two. It is the most enjoyable movie I have ever seen. I don't think it is a bad movie, as it is. It is a movie that I can watch again and again. It is a movie that is not as good as it is. I don't think I will ever get to see it again. I don't want to give it a 10, but I can't blame it. It's a movie about people that make you think about it. The story is simple. It is simple as a movie. It is a simple man who is a jerk. He is a jerk who is a jerk who is a jerk. He's not a bad person. He is a jerk who can't be trusted. He is an attractive jerk who is not a bad guy. He is also a jerk who is not in love with the world. He is a jerk who is the leader of a team. He is a jerk who is in love with his fellow soldiers. He is a jerk who is a jerk who gets a job in the club. He is a jerk who wants to get the job done. He gets into the club. He is not a jerk who is a bad guy and he is not a good guy, but he is a jerk who gets to know his name. He has a good friend who'\n",
            "'top_k:20'\n",
            "'This is a very good and entertaining film with tons of characters and characters. The story is a little bit too rushed, with some of the characters being forced into the movie. The movie has an engaging story, the editing is good, the plot is strong, the direction is good, and the performances are top notch. The storyline is amazing, the acting is superb, the score is good and the story is good. The music is great. I loved the song. The acting was great. I thought the cinematography was excellent. This was the best. I will not waste any more time on this. I must recommend this film for anyone.\"\n",
            "'\n",
            "'top_k:30'\n",
            "'This is an extremely entertaining film. I thought the acting was a tad too much. The story was too much to be avoided. I was expecting a lot to happen but the ending is not quite as well as the story is. However it was a very well-made experience for me. I was also wondering why. I'm glad I did. I didn't understand why. I thought I was trying to be a bit of a bit of a jerk. I thought about that. I thought that it was a little too much for me. I thought it was a good film but I was still convinced. This is a great film at times and I would recommend it. I thought it was a lot more entertaining and entertaining. I thought that I was not sure about it. I thought it was a great film but I thought that I will give it a watch.\"\n",
            "'\n",
            "'top_k:40'\n",
            "'I loved the movie. I loved the film. It did a nice job of showing the struggles people had with the story. I'm sure I am a fan of the film, but I don't like it. It was like they had taken the movie as they did the \"\"songs\"\" and have the \"\"Songs\"\" as a tribute to the band. I am glad they did this. I loved this. I love the band. I love the band. I love the band. I love the band. I love the band. I love this. I love the Blues. I love the Blues. I love the Blues. I love the Blues. I love the Blues. I love the Blues. I love the Blues. I love the Blues. I love the Blues. I hate the Blues. I love the Blues. I love the Blues. I love the Blues. The Blues. I love the Blues. I love the Blues. I love the Blues. I love the Blues. I love the Blues. I love the Blues. I love the Blues but I love the Blues. The Blues and Blues. I love the Blues. I love the Blues. I love the Blues. I love the Blues. I love the Blues. I love the Blues. I love the Blues. The Blues. I love the Blues. I love the Blues. I love the Blues. I love the Blues. I love the Blues. I love the Blues'\n",
            "'top_k:50'\n",
            "'This is one of the worst movies I've ever seen. It was one of those movies that looked like they were really trying to make an entertaining and entertaining movie. It was just a total waste of time and money. The actors who played the characters they were bad, the cinematography was horrible and the cinematography was terrible. There is no doubt that they had a good script. The sets and sets were terrible. The story was just so bad and the actors should have been ashamed to be in their roles. I thought they had no idea what to do with this. I thought this movie was a complete waste of celluloid and effort. I don't know what to do with this movie. There were so few laughs and there were so little. I'm sure the actors did a good job with what they did. There were no surprises or surprises. I don't mind what they did with this movie. As I said, the plot was bad. I did not like the movie. I don't understand what they were doing. I don't mind what the movie was trying to do with this movie but I can't blame you. I don't mind the end of the movie. This is just so wrong. This'\n",
            "\n",
            "---------------\n",
            "  Rating: 8\n",
            "---------------\n",
            "'top_k:10'\n",
            "'I saw this on TV in the mid thirties. I thought the film was a little more than an excuse to show a movie that I thought would be so good and interesting to watch. I was not expecting much of a surprise, and I was pleasantly surprised. The cast was fine, the score was excellent. I had an incredible time. The story seemed to have a lot of potential, but it's over-reliant. I was left with an impressionable, and that's what I thought I was going to see. I was so disappointed with the movie, especially the ending, but the ending, I didn't think that would have worked. I don't know what the hell was trying to do with all the other movies. I can't blame the actors for the film. I don't think it's a good sign. I don't know why. I don't know what the hell would have been like. I'm sure if they had been trying to make a film, and then they should just have tried to make a movie about what the hell was going to be like. I thought the film should have been a bit more entertaining than the film. It wasn't. I'm sure what they had going for it. It was just so predictable. I don't really know what the hell was. I don't know what the hell was trying to do. I don't know what the hell was trying to do with the movie'\n",
            "'top_k:20'\n",
            "'It's a movie for you. It's a good movie but not for everyone. I've just seen it but i have to say that I have to say I didn't like the movie at all because i thought that the movie sucked in. I don't really understand the movie. It's only an average movie but if you enjoy movies like this then don't waste your time. There is no problem with the movie. I would give it a 7 but the only thing i can think about this movie. I am not sure what they are trying to do is that they should have focused on the plot. I could've done better with the actors and the story. I guess you know there are some things i can think about. I don't like it. I don't think it's possible for anyone to go to a club with you. I didn't like the movie. I think it was good but I guess they should have made it a movie. I thought it was going to be good but it wasn't. I don't know what people are trying to do with this. I thought the movie was boring and boring. I don't know what to do with this movie. I thought it was too predictable. But the acting was good and the plot was good. The only thing i didn't like was a couple of scenes that were just nothing but a few. But this was a nice movie. I don't want to ruin anything but I'\n",
            "'top_k:30'\n",
            "'I was never a fan of his but I'm not sure what they saw with him when they were in the 70s and 80's. I also thought that I can relate to him and his character. I would have liked to see more of him with his life and his love. I was not sure if they can see him as a character or a character. I was sure he would have a little more of a role in this film. There were a few people who could have portrayed him as a character. The time of the film came to be on the grounds of what we are seeing, there were a few people who don't have the same sense of realism. I don't know what a good actor would have thought to do with such an ordinary character. I would've liked to see more of him as a character that would have been perfect if he had been allowed to do more of what he had. I don't know what I'm saying here for the movie. I could have said that I don't know what my money is thinking. I don't know what it is. I've never been a fan of the character or the character. I don't know what that was thinking. I've seen that they've been doing a great job of playing the role of a man who is not a good enough to know. I don't know what this was thinking and what I thought was going to do with this. I don't know what'\n",
            "'top_k:40'\n",
            "'I know the majority of people who have not seen this movie were so disappointed. I know it wasn't even a bad film, but it was entertaining. I think it was just the movie that I thought was better than it really is. The plot was actually a little bit weak, and the acting was good. I could have left the movie with a little more excitement. They should have had a better movie, and have a more entertaining story. I was pleased at the moment. I can't blame it for the movie as much as I will, I have no idea what to do with it. It is a shame that you didn't know what to do with it. I'm glad I did. I hope we can get to see a more of the story. I did, so I will go with this one. I don't know what to do with it. I have no problem with the way the movie. I really don't know where to start. I don't know what to start with. The movie is about a man who is a man with no redeeming qualities, who is an ordinary person who is obsessed with everything and everything. He has a lot more luck and is going to spend an entire day with his family friend. He is a man who is just a man who wants to be an actor. He is a man with a limited talent who has a problem, but he has nothing to do with his character. He is'\n",
            "'top_k:50'\n",
            "'I was looking forward to see this movie but, it just didn't fit perfectly in. This movie was so predictable, predictable, predictable, and the ending did not. I kept wondering why they even brought the movie on to life, at least because of the story it created. If you want to see the movie as an ending to the era of movies, then you might be right. It seems this way the movie is just trying to sell it for you. But, if you want to see a movie about a good movie, you should have just rented it. If you want to see a good movie about a good movie, this is a movie I could watch. I'm not going to say it is a good movie. It's a good movie, there is nothing else in it. I don't know what to do with the movie, but I'm pretty sure you should be watching a movie. I was disappointed. I'm not a fan of the genre but I didn't stop watching this. I didn't want to see this movie. I was also bored to the end that the acting was bad. I was bored after watching this movie. I didn't want to be bored by the movie. I wanted to see a good movie, but I didn't like it. I thought the movie was very disappointing. I didn't think I would ever know what to do with this movie. I just came across it as being a good movie.'\n",
            "\n",
            "---------------\n",
            "  Rating: 9\n",
            "---------------\n",
            "'top_k:10'\n",
            "'If you have the same feeling you have with the movie, you can't be sure if you are going to see it. If you don't like this movie, just don't watch it and don't waste your time on this movie. It's a movie that you can go to see over and over. The movie is a little too short, it doesn't really go to show the movie. If you have your time to watch this, you might not be disappointed. There are some things, I thought I should have given it a 10. This movie is a little too short. It seems like the movie was supposed to show some of the things. It is a little too much time to show that you can do with the movie. I don't know what the hell was supposed to do with the movie. It is so short. I don't like it but I thought it was a nice movie. I don't mind the way they do the movie. I am glad I did. I don't really see this movie. I don't mind the movie. I don't know what they are trying to do with the movie. I don't like the fact that you don't know what to do with the movie. I don't know why. They are so short. I don't know who the hell is going to be. I don't know if they should have left the movie to make a movie. I don't know what the hell'\n",
            "'top_k:20'\n",
            "'This is one of the best films i've ever seen. The cast in this film is perfect for the most part. They have a beautiful romance that is very well done. The story is simple. The direction is superb. The story is very suspenseful. And the direction is excellent. And the performances from the cast are top notch. The cinematography was amazing. The cinematography. The sound was very good. The score was very good. Also the music. You can't make a movie about a movie without a doubt. The cinematography and the atmosphere. The score is excellent. A must watch.\"\n",
            "'\n",
            "'top_k:30'\n",
            "'I am a marvel fan of the Marvel Cinematic Universe. This movie made me hate it because the characters were just so random that they just had nothing to do with the story. I am glad I did with the movie. I can't blame anything but what I think is nothing short of a joke. And what I don't really know is that the characters are so forced and contrived that they should be in a movie. They are so forced and unbelievable, they are forced to be at risk of their actions that they should be forced into their actions. I don't know what they should be doing in the movie. They just don't have any motivation to be in the movie. And they just don't look happy when they get to see all the answers they have when they are. It's just the only reason that they don't have any idea about what they're thinking in the universe. They don't have any kind of motivation to be in the movie. They just don't have any good reason. They just don't have a clue until they are on screen. I don't really know what they are trying to achieve. I don't know what this is going to do with the new movies, and I don't know what it's going to do with these characters.\"\n",
            "'\n",
            "'top_k:40'\n",
            "'I didn't see the trailers, and I was disappointed. I was disappointed. I had the problem with this movie, but I was surprised. I was not sure what the hell was that about it. I thought it was a pretty bad movie. I will not be watching it again. I was surprised at the box office. I can't blame any of the actors. I thought that they had a good plot and it wasn't that good. They had nothing to do with the characters. I was told by the producers that there was no way they could have been more than 5 years old. It wasn't that bad, but it was also not entertaining. The way they were going, all I can say was, was not at all believable. I was hoping this movie would've been better. It was certainly not. It wasn't. I don't know what to do with the movie. The ending, I think, was surprisingly funny. I don't know what that is like. I am a great moviegoers who love movies. And I have a lot of respect for the movie industry. I have a lot of people with a good time.\"\n",
            "'\n",
            "'top_k:50'\n",
            "'This is great work for a film industry. While I thought the film was good, it was not great enough for me. I am not sure what I heard was a comedy. I don't know what to do with the film, but it was just so much more than that. The directing was good, and the screenplay was good. I am not sure what I thought was this film. It was definitely not as great as other people are the reviews, but I'm sure this film is the best of the time. I'm glad I did. I don't need a second viewing of the film. It's not a film as good as others, but I have a good time. I think it had a good cast. The story is a good one to watch. It is an enjoyable film. It is a good screenplay and a good screenplay. I will watch it again, and it should be, to watch. I hope it does not become too much of a failure, but I wish that this one was not. I am sure the producers will not make a sequel, so I won't. I wish that it may be better. I will now see this film. I can't be a fan of the books or the books. I don't think I would be surprised if it was that bad. I was so disappointed. I didn't feel like I should have waited a second time. I thought I will. I did not think I'\n",
            "\n",
            "---------------\n",
            "  Rating: 10\n",
            "---------------\n",
            "'top_k:10'\n",
            "'I've seen this film in a while, and I've seen every other film. I was struck by a great story and the way the characters are portrayed. The film is well directed and acted to be a testament to the performances of the characters. I loved every minute. The film is a good film, with a good cast. The music is good. The performances are good. The soundtrack is good. I liked the film. The music is good. The music was good. I liked the ending. The editing was good. This is good. I would recommend it for anyone, especially if you're an avid fan of the genre. I recommend this film. If you're a fan of the genre, then you've already seen the previous. If you're into the genre, then you're going for a great film. I suggest this film. If you're into the genre, you can watch it for yourself. It's a must see. I'll be glad I did. I was. And I'm glad I did. I did. I didn't know what to expect. I was pleased. I was. I was so pleased. I was pleased. I thought it was good enough. I thought I was going to be a great film. I was. I had the right time when I was in college. I was at my school, I didn't see it. I thought it would be an interesting film. It was a very'\n",
            "'top_k:20'\n",
            "'I don't need it to be this bad and horrible film. I am a big fan of this movie. I am a fan of the old movies, and I'm really glad I did. I was surprised by the great performances of the actors. I'm surprised that I didn't see this movie. I did not think it was a bad film. I thought it was a good one, a lot of it was done. I must admit I wasn't disappointed.\"\n",
            "'\n",
            "'top_k:30'\n",
            "'If you're not into the Marvel Comics character or just want to see this movie, don't get caught up till the end. The first half of the movie is good, but the second half is too much too much time and too much time. They don't have any of the excitement I felt about the movie. I am not sure what that means for this movie, but I'm sure they are. I was really bored. I was wondering if I should have thought about the movie, and I should have realized it. I was wondering if I can get back. I was wondering if I ever get back. The first half the movie was good, but the end was too much. I was thinking it was going to be good and entertaining. I was thinking, I was wrong! The second half was great, but the first half was just too much. I can't blame the characters for the movie. They were the only redeeming feature of this movie. The movie was not bad too much. There were a few good moments. But the movie was just too long. I thought it was overrated. Even the fight scenes in the movie were too predictable. The action scenes were too over done. The final battle scene had nothing to do with the movie. There is no doubt that the next chapter will be better, but no. It could have been better. But I was wondering if this is the first two. I am too confused.'\n",
            "'top_k:40'\n",
            "'I've seen this movie in the theatre, and for me it was a little bit off the charts. It was a little bit of an impressionable movie, but that was the only thing to be disappointed. It's a very good movie, but it's not a terrible film. It isn't entertaining. You don't expect to be bored with the movie, they just don't get enough time to get a good time to enjoy it. The ending with a bit of a happy ending. I am a big fan of the original Batman film, and I can't stop wondering why. I love this movie, because I really love it. I loved the Batman films so much. I love the Batman films. I love the Joker. I love the Batman films. I love the Batman movies. I love this movie. I love movies. I love the Batman films. I love Batman films. I love Batman Begins. I love Batman Begins. I love the Batman films. I loved the Batman movies. I love it. I love the Joker. I love this movie. I loved the Batman films. I love this movie. I love Batman Begins. I love the Batman films. I love the Batman films. I love this movie. I LOVE this movie. I LOVE IT! I love Batman Begins. I LOVE IT. I LOVE IT. I LOVE IT. I LOVE IT. I LOVE IT! I LOVE IT! I LOVE IT. I LOVE'\n",
            "'top_k:50'\n",
            "'The first time I watched this movie, I thought, \"\"this is a movie that's going to be nothing more than a movie. I thought, \"\"I've got this movie right now, I'll be okay with it\"\", I thought, and I was pleased. It was a good movie. I'd rather just take it as a movie, because I'm not a fan of all this is going to do with the movie. I thought I was right with this movie, but I thought the acting was brilliant. I was pleased at the first time I realized that I was going to be a hero. It was an amazing film. I had the feeling of a bad movie. I was so surprised with the beauty of the images. I was very excited at the beginning of the movie. I was very excited at the end of the movie, that I can't take my eyes away. I thought I was going to see a masterpiece. I was so excited when I saw it. I left the movie. I can't stop thinking about the movie. I don't know what the hell was with the \"\"action\"\" that was supposed to be. I have no idea what the hell was on. It was a good movie. I thought I was in the theatre. I love it. I've seen it so. I was very pleased. The movie was very funny. I thought it was a great movie. I was very disappointed. I thought the'\n",
            "\n"
          ]
        }
      ]
    }
  ],
  "metadata": {
    "accelerator": "GPU",
    "colab": {
      "collapsed_sections": [
        "fqT5UghRwSi_",
        "iyBYk3KxvBuz"
      ],
      "provenance": [],
      "authorship_tag": "ABX9TyPDNPF7jjl469JhfyK3WaOz"
    },
    "gpuClass": "premium",
    "kernelspec": {
      "display_name": "Python 3",
      "name": "python3"
    },
    "language_info": {
      "name": "python"
    }
  },
  "nbformat": 4,
  "nbformat_minor": 0
}