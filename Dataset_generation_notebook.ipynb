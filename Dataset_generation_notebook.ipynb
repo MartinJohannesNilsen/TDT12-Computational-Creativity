{
  "cells": [
    {
      "cell_type": "markdown",
      "metadata": {
        "id": "6poaJxqXyano"
      },
      "source": [
        "## Notebook setup"
      ]
    },
    {
      "cell_type": "markdown",
      "metadata": {
        "id": "cMLquXCxPENA"
      },
      "source": [
        "The initial step includes mounting a drive for Colab and installing the dependencies"
      ]
    },
    {
      "cell_type": "code",
      "execution_count": null,
      "metadata": {
        "colab": {
          "base_uri": "https://localhost:8080/"
        },
        "id": "IfkdCZaTX4PZ",
        "outputId": "524d7f2d-ecc4-43d2-944d-5fc9e92860b2"
      },
      "outputs": [
        {
          "output_type": "stream",
          "name": "stdout",
          "text": [
            "Mounted at /content/drive\n"
          ]
        }
      ],
      "source": [
        "from google.colab import drive\n",
        "drive.mount('/content/drive')"
      ]
    },
    {
      "cell_type": "code",
      "execution_count": null,
      "metadata": {
        "colab": {
          "base_uri": "https://localhost:8080/"
        },
        "id": "Jdg7OnonX0wf",
        "outputId": "e51f6396-27c8-42e2-b822-55b4958bcf89"
      },
      "outputs": [
        {
          "output_type": "stream",
          "name": "stdout",
          "text": [
            "Looking in indexes: https://pypi.org/simple, https://us-python.pkg.dev/colab-wheels/public/simple/\n",
            "Requirement already satisfied: pandas in /usr/local/lib/python3.7/dist-packages (from -r /content/drive/MyDrive/ml_projects/tdt12_nlp_creative/requirements.txt (line 1)) (1.3.5)\n",
            "Requirement already satisfied: numpy in /usr/local/lib/python3.7/dist-packages (from -r /content/drive/MyDrive/ml_projects/tdt12_nlp_creative/requirements.txt (line 2)) (1.21.6)\n",
            "Requirement already satisfied: matplotlib in /usr/local/lib/python3.7/dist-packages (from -r /content/drive/MyDrive/ml_projects/tdt12_nlp_creative/requirements.txt (line 3)) (3.2.2)\n",
            "Collecting transformers\n",
            "  Downloading transformers-4.24.0-py3-none-any.whl (5.5 MB)\n",
            "\u001b[K     |████████████████████████████████| 5.5 MB 5.2 MB/s \n",
            "\u001b[?25hRequirement already satisfied: scikit-learn in /usr/local/lib/python3.7/dist-packages (from -r /content/drive/MyDrive/ml_projects/tdt12_nlp_creative/requirements.txt (line 5)) (1.0.2)\n",
            "Collecting demoji\n",
            "  Downloading demoji-1.1.0-py3-none-any.whl (42 kB)\n",
            "\u001b[K     |████████████████████████████████| 42 kB 1.7 MB/s \n",
            "\u001b[?25hCollecting pytorch-lightning==1.7.7\n",
            "  Downloading pytorch_lightning-1.7.7-py3-none-any.whl (708 kB)\n",
            "\u001b[K     |████████████████████████████████| 708 kB 32.8 MB/s \n",
            "\u001b[?25hCollecting aitextgen\n",
            "  Downloading aitextgen-0.6.0.tar.gz (572 kB)\n",
            "\u001b[K     |████████████████████████████████| 572 kB 46.0 MB/s \n",
            "\u001b[?25hCollecting pyDeprecate>=0.3.1\n",
            "  Downloading pyDeprecate-0.3.2-py3-none-any.whl (10 kB)\n",
            "Requirement already satisfied: tensorboard>=2.9.1 in /usr/local/lib/python3.7/dist-packages (from pytorch-lightning==1.7.7->-r /content/drive/MyDrive/ml_projects/tdt12_nlp_creative/requirements.txt (line 7)) (2.9.1)\n",
            "Requirement already satisfied: torch>=1.9.* in /usr/local/lib/python3.7/dist-packages (from pytorch-lightning==1.7.7->-r /content/drive/MyDrive/ml_projects/tdt12_nlp_creative/requirements.txt (line 7)) (1.12.1+cu113)\n",
            "Requirement already satisfied: packaging>=17.0 in /usr/local/lib/python3.7/dist-packages (from pytorch-lightning==1.7.7->-r /content/drive/MyDrive/ml_projects/tdt12_nlp_creative/requirements.txt (line 7)) (21.3)\n",
            "Requirement already satisfied: tqdm>=4.57.0 in /usr/local/lib/python3.7/dist-packages (from pytorch-lightning==1.7.7->-r /content/drive/MyDrive/ml_projects/tdt12_nlp_creative/requirements.txt (line 7)) (4.64.1)\n",
            "Requirement already satisfied: PyYAML>=5.4 in /usr/local/lib/python3.7/dist-packages (from pytorch-lightning==1.7.7->-r /content/drive/MyDrive/ml_projects/tdt12_nlp_creative/requirements.txt (line 7)) (6.0)\n",
            "Collecting torchmetrics>=0.7.0\n",
            "  Downloading torchmetrics-0.10.3-py3-none-any.whl (529 kB)\n",
            "\u001b[K     |████████████████████████████████| 529 kB 58.6 MB/s \n",
            "\u001b[?25hRequirement already satisfied: fsspec[http]!=2021.06.0,>=2021.05.0 in /usr/local/lib/python3.7/dist-packages (from pytorch-lightning==1.7.7->-r /content/drive/MyDrive/ml_projects/tdt12_nlp_creative/requirements.txt (line 7)) (2022.11.0)\n",
            "Requirement already satisfied: typing-extensions>=4.0.0 in /usr/local/lib/python3.7/dist-packages (from pytorch-lightning==1.7.7->-r /content/drive/MyDrive/ml_projects/tdt12_nlp_creative/requirements.txt (line 7)) (4.1.1)\n",
            "Requirement already satisfied: aiohttp!=4.0.0a0,!=4.0.0a1 in /usr/local/lib/python3.7/dist-packages (from fsspec[http]!=2021.06.0,>=2021.05.0->pytorch-lightning==1.7.7->-r /content/drive/MyDrive/ml_projects/tdt12_nlp_creative/requirements.txt (line 7)) (3.8.3)\n",
            "Requirement already satisfied: requests in /usr/local/lib/python3.7/dist-packages (from fsspec[http]!=2021.06.0,>=2021.05.0->pytorch-lightning==1.7.7->-r /content/drive/MyDrive/ml_projects/tdt12_nlp_creative/requirements.txt (line 7)) (2.23.0)\n",
            "Requirement already satisfied: yarl<2.0,>=1.0 in /usr/local/lib/python3.7/dist-packages (from aiohttp!=4.0.0a0,!=4.0.0a1->fsspec[http]!=2021.06.0,>=2021.05.0->pytorch-lightning==1.7.7->-r /content/drive/MyDrive/ml_projects/tdt12_nlp_creative/requirements.txt (line 7)) (1.8.1)\n",
            "Requirement already satisfied: attrs>=17.3.0 in /usr/local/lib/python3.7/dist-packages (from aiohttp!=4.0.0a0,!=4.0.0a1->fsspec[http]!=2021.06.0,>=2021.05.0->pytorch-lightning==1.7.7->-r /content/drive/MyDrive/ml_projects/tdt12_nlp_creative/requirements.txt (line 7)) (22.1.0)\n",
            "Requirement already satisfied: multidict<7.0,>=4.5 in /usr/local/lib/python3.7/dist-packages (from aiohttp!=4.0.0a0,!=4.0.0a1->fsspec[http]!=2021.06.0,>=2021.05.0->pytorch-lightning==1.7.7->-r /content/drive/MyDrive/ml_projects/tdt12_nlp_creative/requirements.txt (line 7)) (6.0.2)\n",
            "Requirement already satisfied: async-timeout<5.0,>=4.0.0a3 in /usr/local/lib/python3.7/dist-packages (from aiohttp!=4.0.0a0,!=4.0.0a1->fsspec[http]!=2021.06.0,>=2021.05.0->pytorch-lightning==1.7.7->-r /content/drive/MyDrive/ml_projects/tdt12_nlp_creative/requirements.txt (line 7)) (4.0.2)\n",
            "Requirement already satisfied: frozenlist>=1.1.1 in /usr/local/lib/python3.7/dist-packages (from aiohttp!=4.0.0a0,!=4.0.0a1->fsspec[http]!=2021.06.0,>=2021.05.0->pytorch-lightning==1.7.7->-r /content/drive/MyDrive/ml_projects/tdt12_nlp_creative/requirements.txt (line 7)) (1.3.3)\n",
            "Requirement already satisfied: aiosignal>=1.1.2 in /usr/local/lib/python3.7/dist-packages (from aiohttp!=4.0.0a0,!=4.0.0a1->fsspec[http]!=2021.06.0,>=2021.05.0->pytorch-lightning==1.7.7->-r /content/drive/MyDrive/ml_projects/tdt12_nlp_creative/requirements.txt (line 7)) (1.3.1)\n",
            "Requirement already satisfied: charset-normalizer<3.0,>=2.0 in /usr/local/lib/python3.7/dist-packages (from aiohttp!=4.0.0a0,!=4.0.0a1->fsspec[http]!=2021.06.0,>=2021.05.0->pytorch-lightning==1.7.7->-r /content/drive/MyDrive/ml_projects/tdt12_nlp_creative/requirements.txt (line 7)) (2.1.1)\n",
            "Requirement already satisfied: asynctest==0.13.0 in /usr/local/lib/python3.7/dist-packages (from aiohttp!=4.0.0a0,!=4.0.0a1->fsspec[http]!=2021.06.0,>=2021.05.0->pytorch-lightning==1.7.7->-r /content/drive/MyDrive/ml_projects/tdt12_nlp_creative/requirements.txt (line 7)) (0.13.0)\n",
            "Requirement already satisfied: pyparsing!=3.0.5,>=2.0.2 in /usr/local/lib/python3.7/dist-packages (from packaging>=17.0->pytorch-lightning==1.7.7->-r /content/drive/MyDrive/ml_projects/tdt12_nlp_creative/requirements.txt (line 7)) (3.0.9)\n",
            "Requirement already satisfied: grpcio>=1.24.3 in /usr/local/lib/python3.7/dist-packages (from tensorboard>=2.9.1->pytorch-lightning==1.7.7->-r /content/drive/MyDrive/ml_projects/tdt12_nlp_creative/requirements.txt (line 7)) (1.50.0)\n",
            "Requirement already satisfied: tensorboard-plugin-wit>=1.6.0 in /usr/local/lib/python3.7/dist-packages (from tensorboard>=2.9.1->pytorch-lightning==1.7.7->-r /content/drive/MyDrive/ml_projects/tdt12_nlp_creative/requirements.txt (line 7)) (1.8.1)\n",
            "Requirement already satisfied: absl-py>=0.4 in /usr/local/lib/python3.7/dist-packages (from tensorboard>=2.9.1->pytorch-lightning==1.7.7->-r /content/drive/MyDrive/ml_projects/tdt12_nlp_creative/requirements.txt (line 7)) (1.3.0)\n",
            "Requirement already satisfied: google-auth-oauthlib<0.5,>=0.4.1 in /usr/local/lib/python3.7/dist-packages (from tensorboard>=2.9.1->pytorch-lightning==1.7.7->-r /content/drive/MyDrive/ml_projects/tdt12_nlp_creative/requirements.txt (line 7)) (0.4.6)\n",
            "Requirement already satisfied: wheel>=0.26 in /usr/local/lib/python3.7/dist-packages (from tensorboard>=2.9.1->pytorch-lightning==1.7.7->-r /content/drive/MyDrive/ml_projects/tdt12_nlp_creative/requirements.txt (line 7)) (0.38.4)\n",
            "Requirement already satisfied: markdown>=2.6.8 in /usr/local/lib/python3.7/dist-packages (from tensorboard>=2.9.1->pytorch-lightning==1.7.7->-r /content/drive/MyDrive/ml_projects/tdt12_nlp_creative/requirements.txt (line 7)) (3.4.1)\n",
            "Requirement already satisfied: google-auth<3,>=1.6.3 in /usr/local/lib/python3.7/dist-packages (from tensorboard>=2.9.1->pytorch-lightning==1.7.7->-r /content/drive/MyDrive/ml_projects/tdt12_nlp_creative/requirements.txt (line 7)) (2.14.1)\n",
            "Requirement already satisfied: setuptools>=41.0.0 in /usr/local/lib/python3.7/dist-packages (from tensorboard>=2.9.1->pytorch-lightning==1.7.7->-r /content/drive/MyDrive/ml_projects/tdt12_nlp_creative/requirements.txt (line 7)) (57.4.0)\n",
            "Requirement already satisfied: werkzeug>=1.0.1 in /usr/local/lib/python3.7/dist-packages (from tensorboard>=2.9.1->pytorch-lightning==1.7.7->-r /content/drive/MyDrive/ml_projects/tdt12_nlp_creative/requirements.txt (line 7)) (1.0.1)\n",
            "Requirement already satisfied: protobuf<3.20,>=3.9.2 in /usr/local/lib/python3.7/dist-packages (from tensorboard>=2.9.1->pytorch-lightning==1.7.7->-r /content/drive/MyDrive/ml_projects/tdt12_nlp_creative/requirements.txt (line 7)) (3.19.6)\n",
            "Requirement already satisfied: tensorboard-data-server<0.7.0,>=0.6.0 in /usr/local/lib/python3.7/dist-packages (from tensorboard>=2.9.1->pytorch-lightning==1.7.7->-r /content/drive/MyDrive/ml_projects/tdt12_nlp_creative/requirements.txt (line 7)) (0.6.1)\n",
            "Requirement already satisfied: six>=1.9.0 in /usr/local/lib/python3.7/dist-packages (from google-auth<3,>=1.6.3->tensorboard>=2.9.1->pytorch-lightning==1.7.7->-r /content/drive/MyDrive/ml_projects/tdt12_nlp_creative/requirements.txt (line 7)) (1.15.0)\n",
            "Requirement already satisfied: cachetools<6.0,>=2.0.0 in /usr/local/lib/python3.7/dist-packages (from google-auth<3,>=1.6.3->tensorboard>=2.9.1->pytorch-lightning==1.7.7->-r /content/drive/MyDrive/ml_projects/tdt12_nlp_creative/requirements.txt (line 7)) (5.2.0)\n",
            "Requirement already satisfied: pyasn1-modules>=0.2.1 in /usr/local/lib/python3.7/dist-packages (from google-auth<3,>=1.6.3->tensorboard>=2.9.1->pytorch-lightning==1.7.7->-r /content/drive/MyDrive/ml_projects/tdt12_nlp_creative/requirements.txt (line 7)) (0.2.8)\n",
            "Requirement already satisfied: rsa<5,>=3.1.4 in /usr/local/lib/python3.7/dist-packages (from google-auth<3,>=1.6.3->tensorboard>=2.9.1->pytorch-lightning==1.7.7->-r /content/drive/MyDrive/ml_projects/tdt12_nlp_creative/requirements.txt (line 7)) (4.9)\n",
            "Requirement already satisfied: requests-oauthlib>=0.7.0 in /usr/local/lib/python3.7/dist-packages (from google-auth-oauthlib<0.5,>=0.4.1->tensorboard>=2.9.1->pytorch-lightning==1.7.7->-r /content/drive/MyDrive/ml_projects/tdt12_nlp_creative/requirements.txt (line 7)) (1.3.1)\n",
            "Requirement already satisfied: importlib-metadata>=4.4 in /usr/local/lib/python3.7/dist-packages (from markdown>=2.6.8->tensorboard>=2.9.1->pytorch-lightning==1.7.7->-r /content/drive/MyDrive/ml_projects/tdt12_nlp_creative/requirements.txt (line 7)) (4.13.0)\n",
            "Requirement already satisfied: zipp>=0.5 in /usr/local/lib/python3.7/dist-packages (from importlib-metadata>=4.4->markdown>=2.6.8->tensorboard>=2.9.1->pytorch-lightning==1.7.7->-r /content/drive/MyDrive/ml_projects/tdt12_nlp_creative/requirements.txt (line 7)) (3.10.0)\n",
            "Requirement already satisfied: pyasn1<0.5.0,>=0.4.6 in /usr/local/lib/python3.7/dist-packages (from pyasn1-modules>=0.2.1->google-auth<3,>=1.6.3->tensorboard>=2.9.1->pytorch-lightning==1.7.7->-r /content/drive/MyDrive/ml_projects/tdt12_nlp_creative/requirements.txt (line 7)) (0.4.8)\n",
            "Requirement already satisfied: urllib3!=1.25.0,!=1.25.1,<1.26,>=1.21.1 in /usr/local/lib/python3.7/dist-packages (from requests->fsspec[http]!=2021.06.0,>=2021.05.0->pytorch-lightning==1.7.7->-r /content/drive/MyDrive/ml_projects/tdt12_nlp_creative/requirements.txt (line 7)) (1.24.3)\n",
            "Requirement already satisfied: chardet<4,>=3.0.2 in /usr/local/lib/python3.7/dist-packages (from requests->fsspec[http]!=2021.06.0,>=2021.05.0->pytorch-lightning==1.7.7->-r /content/drive/MyDrive/ml_projects/tdt12_nlp_creative/requirements.txt (line 7)) (3.0.4)\n",
            "Requirement already satisfied: idna<3,>=2.5 in /usr/local/lib/python3.7/dist-packages (from requests->fsspec[http]!=2021.06.0,>=2021.05.0->pytorch-lightning==1.7.7->-r /content/drive/MyDrive/ml_projects/tdt12_nlp_creative/requirements.txt (line 7)) (2.10)\n",
            "Requirement already satisfied: certifi>=2017.4.17 in /usr/local/lib/python3.7/dist-packages (from requests->fsspec[http]!=2021.06.0,>=2021.05.0->pytorch-lightning==1.7.7->-r /content/drive/MyDrive/ml_projects/tdt12_nlp_creative/requirements.txt (line 7)) (2022.9.24)\n",
            "Requirement already satisfied: oauthlib>=3.0.0 in /usr/local/lib/python3.7/dist-packages (from requests-oauthlib>=0.7.0->google-auth-oauthlib<0.5,>=0.4.1->tensorboard>=2.9.1->pytorch-lightning==1.7.7->-r /content/drive/MyDrive/ml_projects/tdt12_nlp_creative/requirements.txt (line 7)) (3.2.2)\n",
            "Requirement already satisfied: pytz>=2017.3 in /usr/local/lib/python3.7/dist-packages (from pandas->-r /content/drive/MyDrive/ml_projects/tdt12_nlp_creative/requirements.txt (line 1)) (2022.6)\n",
            "Requirement already satisfied: python-dateutil>=2.7.3 in /usr/local/lib/python3.7/dist-packages (from pandas->-r /content/drive/MyDrive/ml_projects/tdt12_nlp_creative/requirements.txt (line 1)) (2.8.2)\n",
            "Requirement already satisfied: cycler>=0.10 in /usr/local/lib/python3.7/dist-packages (from matplotlib->-r /content/drive/MyDrive/ml_projects/tdt12_nlp_creative/requirements.txt (line 3)) (0.11.0)\n",
            "Requirement already satisfied: kiwisolver>=1.0.1 in /usr/local/lib/python3.7/dist-packages (from matplotlib->-r /content/drive/MyDrive/ml_projects/tdt12_nlp_creative/requirements.txt (line 3)) (1.4.4)\n",
            "Requirement already satisfied: regex!=2019.12.17 in /usr/local/lib/python3.7/dist-packages (from transformers->-r /content/drive/MyDrive/ml_projects/tdt12_nlp_creative/requirements.txt (line 4)) (2022.6.2)\n",
            "Collecting huggingface-hub<1.0,>=0.10.0\n",
            "  Downloading huggingface_hub-0.11.0-py3-none-any.whl (182 kB)\n",
            "\u001b[K     |████████████████████████████████| 182 kB 64.7 MB/s \n",
            "\u001b[?25hRequirement already satisfied: filelock in /usr/local/lib/python3.7/dist-packages (from transformers->-r /content/drive/MyDrive/ml_projects/tdt12_nlp_creative/requirements.txt (line 4)) (3.8.0)\n",
            "Collecting tokenizers!=0.11.3,<0.14,>=0.11.1\n",
            "  Downloading tokenizers-0.13.2-cp37-cp37m-manylinux_2_17_x86_64.manylinux2014_x86_64.whl (7.6 MB)\n",
            "\u001b[K     |████████████████████████████████| 7.6 MB 53.3 MB/s \n",
            "\u001b[?25hRequirement already satisfied: threadpoolctl>=2.0.0 in /usr/local/lib/python3.7/dist-packages (from scikit-learn->-r /content/drive/MyDrive/ml_projects/tdt12_nlp_creative/requirements.txt (line 5)) (3.1.0)\n",
            "Requirement already satisfied: scipy>=1.1.0 in /usr/local/lib/python3.7/dist-packages (from scikit-learn->-r /content/drive/MyDrive/ml_projects/tdt12_nlp_creative/requirements.txt (line 5)) (1.7.3)\n",
            "Requirement already satisfied: joblib>=0.11 in /usr/local/lib/python3.7/dist-packages (from scikit-learn->-r /content/drive/MyDrive/ml_projects/tdt12_nlp_creative/requirements.txt (line 5)) (1.2.0)\n",
            "Collecting fire>=0.3.0\n",
            "  Downloading fire-0.4.0.tar.gz (87 kB)\n",
            "\u001b[K     |████████████████████████████████| 87 kB 7.2 MB/s \n",
            "\u001b[?25hRequirement already satisfied: termcolor in /usr/local/lib/python3.7/dist-packages (from fire>=0.3.0->aitextgen->-r /content/drive/MyDrive/ml_projects/tdt12_nlp_creative/requirements.txt (line 8)) (2.1.0)\n",
            "Building wheels for collected packages: aitextgen, fire\n",
            "  Building wheel for aitextgen (setup.py) ... \u001b[?25l\u001b[?25hdone\n",
            "  Created wheel for aitextgen: filename=aitextgen-0.6.0-py3-none-any.whl size=576010 sha256=ce855553c15bf02d2b9de1b9d0a667a4cfb401a5e86b44c9c4a5933a9001e228\n",
            "  Stored in directory: /root/.cache/pip/wheels/eb/77/2a/993dcd2bf690ff75db487709aa0f770f15ea57a7f8ed088524\n",
            "  Building wheel for fire (setup.py) ... \u001b[?25l\u001b[?25hdone\n",
            "  Created wheel for fire: filename=fire-0.4.0-py2.py3-none-any.whl size=115943 sha256=b65b9dee3602f4fff5fc0d15d465f35aa7ca9d6b493281445cd906ba13d2b614\n",
            "  Stored in directory: /root/.cache/pip/wheels/8a/67/fb/2e8a12fa16661b9d5af1f654bd199366799740a85c64981226\n",
            "Successfully built aitextgen fire\n",
            "Installing collected packages: torchmetrics, tokenizers, pyDeprecate, huggingface-hub, transformers, pytorch-lightning, fire, demoji, aitextgen\n",
            "Successfully installed aitextgen-0.6.0 demoji-1.1.0 fire-0.4.0 huggingface-hub-0.11.0 pyDeprecate-0.3.2 pytorch-lightning-1.7.7 tokenizers-0.13.2 torchmetrics-0.10.3 transformers-4.24.0\n"
          ]
        }
      ],
      "source": [
        "!pip install -r \"/content/drive/MyDrive/ml_projects/tdt12_nlp_creative/requirements.txt\""
      ]
    },
    {
      "cell_type": "markdown",
      "metadata": {
        "id": "RVzQXcRpyhd6"
      },
      "source": [
        "## Python Imports"
      ]
    },
    {
      "cell_type": "code",
      "execution_count": null,
      "metadata": {
        "id": "DVIvNJcNX0wh"
      },
      "outputs": [],
      "source": [
        "# File/string operations\n",
        "DATA = \"/content/drive/MyDrive/ml_projects/tdt12_nlp_creative\"\n",
        "import os\n",
        "import shutil\n",
        "import demoji\n",
        "import string\n",
        "import regex as re\n",
        "# Data operations\n",
        "import numpy as np\n",
        "import pandas as pd\n",
        "# Plotting\n",
        "import matplotlib.pyplot as plt\n",
        "plt.style.use('ggplot')\n",
        "# Tokenized dataset\n",
        "from aitextgen.TokenDataset import TokenDataset"
      ]
    },
    {
      "cell_type": "markdown",
      "metadata": {
        "id": "AnCWEGdO1UsE"
      },
      "source": [
        "## Dataset generation\n"
      ]
    },
    {
      "cell_type": "markdown",
      "metadata": {
        "id": "R5waJ4ydX0we"
      },
      "source": [
        "### Read in data"
      ]
    },
    {
      "cell_type": "code",
      "execution_count": null,
      "metadata": {
        "colab": {
          "base_uri": "https://localhost:8080/",
          "height": 693
        },
        "id": "bdehiwDcX0wi",
        "outputId": "8496375c-eb67-4d20-f7fe-45b313b53515"
      },
      "outputs": [
        {
          "output_type": "execute_result",
          "data": {
            "text/plain": [
              "   rating                                               text\n",
              "0       6  This franchise has obviously become a parody. ...\n",
              "1       4  Assassin John Wick is referred to as Baba Yaga...\n",
              "2       7  In the immediate lineage of the second opus, t...\n",
              "3       4  John Wick, having killed someone within the sa...\n",
              "4       5  It's not that I am not an action fan, one star..."
            ],
            "text/html": [
              "\n",
              "  <div id=\"df-a0323969-a1c1-4402-9063-aaffe9617673\">\n",
              "    <div class=\"colab-df-container\">\n",
              "      <div>\n",
              "<style scoped>\n",
              "    .dataframe tbody tr th:only-of-type {\n",
              "        vertical-align: middle;\n",
              "    }\n",
              "\n",
              "    .dataframe tbody tr th {\n",
              "        vertical-align: top;\n",
              "    }\n",
              "\n",
              "    .dataframe thead th {\n",
              "        text-align: right;\n",
              "    }\n",
              "</style>\n",
              "<table border=\"1\" class=\"dataframe\">\n",
              "  <thead>\n",
              "    <tr style=\"text-align: right;\">\n",
              "      <th></th>\n",
              "      <th>rating</th>\n",
              "      <th>text</th>\n",
              "    </tr>\n",
              "  </thead>\n",
              "  <tbody>\n",
              "    <tr>\n",
              "      <th>0</th>\n",
              "      <td>6</td>\n",
              "      <td>This franchise has obviously become a parody. ...</td>\n",
              "    </tr>\n",
              "    <tr>\n",
              "      <th>1</th>\n",
              "      <td>4</td>\n",
              "      <td>Assassin John Wick is referred to as Baba Yaga...</td>\n",
              "    </tr>\n",
              "    <tr>\n",
              "      <th>2</th>\n",
              "      <td>7</td>\n",
              "      <td>In the immediate lineage of the second opus, t...</td>\n",
              "    </tr>\n",
              "    <tr>\n",
              "      <th>3</th>\n",
              "      <td>4</td>\n",
              "      <td>John Wick, having killed someone within the sa...</td>\n",
              "    </tr>\n",
              "    <tr>\n",
              "      <th>4</th>\n",
              "      <td>5</td>\n",
              "      <td>It's not that I am not an action fan, one star...</td>\n",
              "    </tr>\n",
              "  </tbody>\n",
              "</table>\n",
              "</div>\n",
              "      <button class=\"colab-df-convert\" onclick=\"convertToInteractive('df-a0323969-a1c1-4402-9063-aaffe9617673')\"\n",
              "              title=\"Convert this dataframe to an interactive table.\"\n",
              "              style=\"display:none;\">\n",
              "        \n",
              "  <svg xmlns=\"http://www.w3.org/2000/svg\" height=\"24px\"viewBox=\"0 0 24 24\"\n",
              "       width=\"24px\">\n",
              "    <path d=\"M0 0h24v24H0V0z\" fill=\"none\"/>\n",
              "    <path d=\"M18.56 5.44l.94 2.06.94-2.06 2.06-.94-2.06-.94-.94-2.06-.94 2.06-2.06.94zm-11 1L8.5 8.5l.94-2.06 2.06-.94-2.06-.94L8.5 2.5l-.94 2.06-2.06.94zm10 10l.94 2.06.94-2.06 2.06-.94-2.06-.94-.94-2.06-.94 2.06-2.06.94z\"/><path d=\"M17.41 7.96l-1.37-1.37c-.4-.4-.92-.59-1.43-.59-.52 0-1.04.2-1.43.59L10.3 9.45l-7.72 7.72c-.78.78-.78 2.05 0 2.83L4 21.41c.39.39.9.59 1.41.59.51 0 1.02-.2 1.41-.59l7.78-7.78 2.81-2.81c.8-.78.8-2.07 0-2.86zM5.41 20L4 18.59l7.72-7.72 1.47 1.35L5.41 20z\"/>\n",
              "  </svg>\n",
              "      </button>\n",
              "      \n",
              "  <style>\n",
              "    .colab-df-container {\n",
              "      display:flex;\n",
              "      flex-wrap:wrap;\n",
              "      gap: 12px;\n",
              "    }\n",
              "\n",
              "    .colab-df-convert {\n",
              "      background-color: #E8F0FE;\n",
              "      border: none;\n",
              "      border-radius: 50%;\n",
              "      cursor: pointer;\n",
              "      display: none;\n",
              "      fill: #1967D2;\n",
              "      height: 32px;\n",
              "      padding: 0 0 0 0;\n",
              "      width: 32px;\n",
              "    }\n",
              "\n",
              "    .colab-df-convert:hover {\n",
              "      background-color: #E2EBFA;\n",
              "      box-shadow: 0px 1px 2px rgba(60, 64, 67, 0.3), 0px 1px 3px 1px rgba(60, 64, 67, 0.15);\n",
              "      fill: #174EA6;\n",
              "    }\n",
              "\n",
              "    [theme=dark] .colab-df-convert {\n",
              "      background-color: #3B4455;\n",
              "      fill: #D2E3FC;\n",
              "    }\n",
              "\n",
              "    [theme=dark] .colab-df-convert:hover {\n",
              "      background-color: #434B5C;\n",
              "      box-shadow: 0px 1px 3px 1px rgba(0, 0, 0, 0.15);\n",
              "      filter: drop-shadow(0px 1px 2px rgba(0, 0, 0, 0.3));\n",
              "      fill: #FFFFFF;\n",
              "    }\n",
              "  </style>\n",
              "\n",
              "      <script>\n",
              "        const buttonEl =\n",
              "          document.querySelector('#df-a0323969-a1c1-4402-9063-aaffe9617673 button.colab-df-convert');\n",
              "        buttonEl.style.display =\n",
              "          google.colab.kernel.accessAllowed ? 'block' : 'none';\n",
              "\n",
              "        async function convertToInteractive(key) {\n",
              "          const element = document.querySelector('#df-a0323969-a1c1-4402-9063-aaffe9617673');\n",
              "          const dataTable =\n",
              "            await google.colab.kernel.invokeFunction('convertToInteractive',\n",
              "                                                     [key], {});\n",
              "          if (!dataTable) return;\n",
              "\n",
              "          const docLinkHtml = 'Like what you see? Visit the ' +\n",
              "            '<a target=\"_blank\" href=https://colab.research.google.com/notebooks/data_table.ipynb>data table notebook</a>'\n",
              "            + ' to learn more about interactive tables.';\n",
              "          element.innerHTML = '';\n",
              "          dataTable['output_type'] = 'display_data';\n",
              "          await google.colab.output.renderOutput(dataTable, element);\n",
              "          const docLink = document.createElement('div');\n",
              "          docLink.innerHTML = docLinkHtml;\n",
              "          element.appendChild(docLink);\n",
              "        }\n",
              "      </script>\n",
              "    </div>\n",
              "  </div>\n",
              "  "
            ]
          },
          "metadata": {},
          "execution_count": 4
        }
      ],
      "source": [
        "df = pd.read_csv(f\"{DATA}/dataset/merged_dataset_sentiment.csv\", delimiter=\"█\", engine=\"python\")\n",
        "df = df.loc[:, ~df.columns.str.contains('^Unnamed')]\n",
        "df = df.loc[:, ~df.columns.str.contains('vader')]\n",
        "df = df.loc[:, ~df.columns.str.contains('roberta')]\n",
        "df.head()"
      ]
    },
    {
      "cell_type": "markdown",
      "metadata": {
        "id": "ZDr5BESpYpw6"
      },
      "source": [
        "### Plot data"
      ]
    },
    {
      "cell_type": "code",
      "execution_count": null,
      "metadata": {
        "colab": {
          "base_uri": "https://localhost:8080/",
          "height": 54
        },
        "id": "qzVrlcrjYr0b",
        "outputId": "e05a7780-7b26-42b6-ef2f-d0582e34cf05"
      },
      "outputs": [
        {
          "output_type": "display_data",
          "data": {
            "text/plain": [
              "<Figure size 360x360 with 1 Axes>"
            ],
            "image/png": "[encoded data removed]"
          },
          "metadata": {}
        }
      ],
      "source": [
        "rating_val_count = df[\"rating\"].value_counts().sort_index()\n",
        "fig, ax = plt.subplots(1, 1, figsize=(5, 5))\n",
        "ax.set_xlabel(\"Review out of 10\")\n",
        "ax.set_ylabel(\"Amount of reviews\")\n",
        "rating_val_count.plot(kind=\"bar\",\n",
        "               title=\"Amount of each rating\",\n",
        "               figsize=(5,5),\n",
        "               ax=ax)\n",
        "plt.tight_layout()\n",
        "plt.show()"
      ]
    },
    {
      "cell_type": "markdown",
      "metadata": {
        "id": "lmGXBU_3RHhk"
      },
      "source": [
        "### Clean text"
      ]
    },
    {
      "cell_type": "code",
      "execution_count": null,
      "metadata": {
        "colab": {
          "base_uri": "https://localhost:8080/"
        },
        "id": "xFjoFYkfGR6T",
        "outputId": "1686c59c-053f-4fda-9ac2-0a7a4369b330"
      },
      "outputs": [
        {
          "output_type": "stream",
          "name": "stdout",
          "text": [
            "My name is [Martin]\\.. \n",
            "I want to show you how   one could 'clean' text, while keeping the correct punctuation!\n",
            "\t How so? Well I am going to show you!!!! \n",
            "Stay tuned for more 😎 <i><i/><br/>\n"
          ]
        }
      ],
      "source": [
        "example = \"My name is [Martin]\\.. \\nI want to show you how   one could 'clean' text, while keeping the correct punctuation!\\n\\t How so? Well I am going to show you!!!! \\nStay tuned for more 😎 <i><i/><br/>\"\n",
        "print(example)"
      ]
    },
    {
      "cell_type": "code",
      "execution_count": null,
      "metadata": {
        "colab": {
          "base_uri": "https://localhost:8080/"
        },
        "id": "vMGaI37mK2J2",
        "outputId": "97392b67-1039-462b-a10a-22bdb6f7ca79"
      },
      "outputs": [
        {
          "output_type": "stream",
          "name": "stdout",
          "text": [
            "My name is Martin. I want to show you how one could 'clean' text, while keeping the correct punctuation! How so? Well I am going to show you! Stay tuned for more\n"
          ]
        }
      ],
      "source": [
        "unnecessary_punctuation = \"[]\\\\_{}|~\"\n",
        "html_tags_regex = re.compile('<.*?>')\n",
        "\n",
        "def text_cleaner(raw_text):\n",
        "  cleaned_text = re.sub(html_tags_regex, '', raw_text) # Remove html tags\n",
        "  cleaned_text = demoji.replace(cleaned_text) # Remove emojies\n",
        "  cleaned_text = cleaned_text.translate(str.maketrans('', '', unnecessary_punctuation)) # Remove unnecessary punctuation\n",
        "  cleaned_text = re.sub(r'[\\!\\?\\.\\,]+(?=[\\!\\?\\.\\,])', '', cleaned_text) # Remove excessive repeated punctuation\n",
        "  cleaned_text = \" \".join(cleaned_text.split()) # Remove whitespace, newline, tab etc.\n",
        "  return cleaned_text\n",
        "\n",
        "print(text_cleaner(example))"
      ]
    },
    {
      "cell_type": "markdown",
      "metadata": {
        "id": "YvWMV1H5FaCF"
      },
      "source": [
        "### Create prompts"
      ]
    },
    {
      "cell_type": "code",
      "execution_count": null,
      "metadata": {
        "colab": {
          "base_uri": "https://localhost:8080/",
          "height": 227
        },
        "id": "PbK3VouAN5Xi",
        "outputId": "aee5b11e-427d-4887-a2d4-c4b93937a19d"
      },
      "outputs": [
        {
          "output_type": "stream",
          "name": "stderr",
          "text": [
            "/usr/local/lib/python3.7/dist-packages/ipykernel_launcher.py:2: SettingWithCopyWarning: \n",
            "A value is trying to be set on a copy of a slice from a DataFrame.\n",
            "Try using .loc[row_indexer,col_indexer] = value instead\n",
            "\n",
            "See the caveats in the documentation: https://pandas.pydata.org/pandas-docs/stable/user_guide/indexing.html#returning-a-view-versus-a-copy\n",
            "  \n"
          ]
        },
        {
          "output_type": "execute_result",
          "data": {
            "text/plain": [
              "'6<|rating|>This franchise has obviously become a parody. It seems that a very high number of the World\\'s population serve the High Table. They\\'re everywhere, behind every corner, but they cannot kill one single man, even if they stab, shoot, throw him from the hotel roof or hit him with a car at full speed. And the Head of this \"powerful organization\" lives among camels in an African desert . There are some entertaining moments, however the numerous fighting scenes become dull after a while.'"
            ],
            "application/vnd.google.colaboratory.intrinsic+json": {
              "type": "string"
            }
          },
          "metadata": {},
          "execution_count": 8
        }
      ],
      "source": [
        "small_df = df.head(1)\n",
        "small_df[\"prompt\"] = small_df.apply(lambda x: (str(x[\"rating\"]) + \"<|rating|>\" + text_cleaner(str(x[\"text\"]))), axis=1)\n",
        "small_df.loc[0][\"prompt\"]"
      ]
    },
    {
      "cell_type": "code",
      "execution_count": null,
      "metadata": {
        "id": "l7nc-78GeG4D"
      },
      "outputs": [],
      "source": [
        "df[\"prompt\"] = df.apply(lambda x: (str(x[\"rating\"]) + \"<|rating|>\" + text_cleaner(str(x[\"text\"]))), axis=1)"
      ]
    },
    {
      "cell_type": "code",
      "execution_count": null,
      "metadata": {
        "colab": {
          "base_uri": "https://localhost:8080/",
          "height": 191
        },
        "id": "3URHh_Rff2y2",
        "outputId": "b015b223-e0c1-4bc7-8328-535ac1824b4e"
      },
      "outputs": [
        {
          "output_type": "execute_result",
          "data": {
            "text/plain": [
              "'2<|rating|>So, I\\'m wondering while watching this film, did the producers of this movie get to save money on Sandra Bullock\\'s wardrobe by dragging out her \"before\" clothes from Miss Congeniality? Did Ms. Bullock also get to sleepwalk through the role by channeling the \"before\" Gracie Hart? As many reviewers have noted before, the film is very formulaic. Add to that the deja vu viewer experiences with the character of Cassie Maywether as a somewhat darker Gracie Hart with more back story and it rapidly become a snooze fest.The two bad boy serial killers have been done before (and better) in other films. As has the \"good guy partner trying to protect his partner despite the evidence\" character been seen before. In fact none of the characters in the film ever get beyond two dimensions or try to be anything but trite stereotypes.One last peeve - using the term serial killer is false advertising. Murdering one person - even if it\\'s a premeditated murder - does not make you a serial killer. You may have the potential to become a serial killer but you are not a serial killer or even a spree killer.'"
            ],
            "application/vnd.google.colaboratory.intrinsic+json": {
              "type": "string"
            }
          },
          "metadata": {},
          "execution_count": 10
        }
      ],
      "source": [
        "df.loc[21000][\"prompt\"]"
      ]
    },
    {
      "cell_type": "code",
      "execution_count": null,
      "metadata": {
        "colab": {
          "base_uri": "https://localhost:8080/"
        },
        "id": "Le53bnMyqN3M",
        "outputId": "8d0779d6-b10f-450d-fc18-77bcfb4650b7"
      },
      "outputs": [
        {
          "output_type": "execute_result",
          "data": {
            "text/plain": [
              "0        6<|rating|>This franchise has obviously become...\n",
              "1        4<|rating|>Assassin John Wick is referred to a...\n",
              "2        7<|rating|>In the immediate lineage of the sec...\n",
              "3        4<|rating|>John Wick, having killed someone wi...\n",
              "4        5<|rating|>It's not that I am not an action fa...\n",
              "                               ...                        \n",
              "70767    8<|rating|>I was extraordinarily impressed by ...\n",
              "70768    10<|rating|>Although I'm not a golf fan, I att...\n",
              "70769    8<|rating|>From the start of \"The Edge Of Love...\n",
              "70770    10<|rating|>This movie, with all its complexit...\n",
              "70771    7<|rating|>I've seen this story before but my ...\n",
              "Name: prompt, Length: 70772, dtype: object"
            ]
          },
          "metadata": {},
          "execution_count": 11
        }
      ],
      "source": [
        "df[\"prompt\"]"
      ]
    },
    {
      "cell_type": "code",
      "execution_count": null,
      "metadata": {
        "colab": {
          "base_uri": "https://localhost:8080/"
        },
        "id": "mjGDE3HKQz5K",
        "outputId": "0d06d8a6-49a2-4354-ccff-6b6d40245379"
      },
      "outputs": [
        {
          "output_type": "execute_result",
          "data": {
            "text/plain": [
              "(70772,)"
            ]
          },
          "metadata": {},
          "execution_count": 12
        }
      ],
      "source": [
        "df[\"prompt\"].shape"
      ]
    },
    {
      "cell_type": "markdown",
      "metadata": {
        "id": "aN8uX80KFcwe"
      },
      "source": [
        "### Save to file"
      ]
    },
    {
      "cell_type": "code",
      "execution_count": null,
      "metadata": {
        "id": "9Vy200R7nOEW"
      },
      "outputs": [],
      "source": [
        "df.to_csv(f\"{DATA}/dataset/processed_creative_prompts.txt\", columns=[\"prompt\"], header=None, index=None, sep=' ')"
      ]
    },
    {
      "cell_type": "markdown",
      "source": [
        "## Create TokenDataset"
      ],
      "metadata": {
        "id": "Uh7Ar_rinqG5"
      }
    },
    {
      "cell_type": "code",
      "source": [
        "data = TokenDataset(f\"{DATA}/dataset/processed_creative_prompts.txt\", line_by_line=True)\n",
        "data.save()"
      ],
      "metadata": {
        "colab": {
          "base_uri": "https://localhost:8080/",
          "height": 103,
          "referenced_widgets": [
            "8c46f0fdd2734592b9c1a9bfd369ce8e",
            "268dab515c9a4960b44dd7a6ac8d7112",
            "4d3dd72e2b844bb48d2ff15bcdc92a73",
            "a24afd1e88424b37b7693c894dfa2176",
            "5c3648534fba4f0fa900e196601aec61",
            "261e72272148468f98ec7108b756ef6f",
            "1e224c6a058344a28ec982132b0ddfa4",
            "bef1dbc28341401cbe9de297e50ffeb9",
            "ca64b376a2e541afb8bef3d5c219f793",
            "41625268e6e346a7b17017a5fe65c8d2",
            "72e4b265577348e294a2efb62d76c08d"
          ]
        },
        "id": "vXgehxhOnssZ",
        "outputId": "321bdba7-24c7-4c66-ad36-3e732cb24839"
      },
      "execution_count": null,
      "outputs": [
        {
          "output_type": "display_data",
          "data": {
            "text/plain": [
              "  0%|          | 0/70772 [00:00<?, ?it/s]"
            ],
            "application/vnd.jupyter.widget-view+json": {
              "version_major": 2,
              "version_minor": 0,
              "model_id": "8c46f0fdd2734592b9c1a9bfd369ce8e"
            }
          },
          "metadata": {}
        },
        {
          "output_type": "stream",
          "name": "stderr",
          "text": [
            "INFO:aitextgen.TokenDataset:Encoding 70,772 sets of tokens from /content/drive/MyDrive/ml_projects/tdt12_nlp_creative/dataset/processed_creative_prompts.txt.\n",
            "INFO:aitextgen.TokenDataset:Caching and compressing dataset to dataset_cache.tar.gz\n"
          ]
        }
      ]
    },
    {
      "cell_type": "code",
      "source": [
        "file_name = \"dataset_cache.tar.gz\"\n",
        "shutil.copy(f\"{file_name}\", f\"{DATA}/dataset/{file_name}\")"
      ],
      "metadata": {
        "colab": {
          "base_uri": "https://localhost:8080/",
          "height": 37
        },
        "id": "XbVW8QDtqrnX",
        "outputId": "37ceecd9-38f8-4d3e-929b-713f5f14541f"
      },
      "execution_count": null,
      "outputs": [
        {
          "output_type": "execute_result",
          "data": {
            "text/plain": [
              "'/content/drive/MyDrive/ml_projects/tdt12_nlp_creative/dataset/dataset_cache.tar.gz'"
            ],
            "application/vnd.google.colaboratory.intrinsic+json": {
              "type": "string"
            }
          },
          "metadata": {},
          "execution_count": 15
        }
      ]
    }
  ],
  "metadata": {
    "accelerator": "GPU",
    "colab": {
      "collapsed_sections": [
        "6poaJxqXyano",
        "R5waJ4ydX0we",
        "ZDr5BESpYpw6",
        "Uh7Ar_rinqG5"
      ],
      "provenance": [],
      "authorship_tag": "ABX9TyPwMgdwLPfdD8Y71ThyAxmk"
    },
    "gpuClass": "premium",
    "kernelspec": {
      "display_name": "Python 3",
      "name": "python3"
    },
    "language_info": {
      "name": "python"
    },
    "widgets": {
      "application/vnd.jupyter.widget-state+json": {
        "8c46f0fdd2734592b9c1a9bfd369ce8e": {
          "model_module": "@jupyter-widgets/controls",
          "model_name": "HBoxModel",
          "model_module_version": "1.5.0",
          "state": {
            "_dom_classes": [],
            "_model_module": "@jupyter-widgets/controls",
            "_model_module_version": "1.5.0",
            "_model_name": "HBoxModel",
            "_view_count": null,
            "_view_module": "@jupyter-widgets/controls",
            "_view_module_version": "1.5.0",
            "_view_name": "HBoxView",
            "box_style": "",
            "children": [
              "IPY_MODEL_268dab515c9a4960b44dd7a6ac8d7112",
              "IPY_MODEL_4d3dd72e2b844bb48d2ff15bcdc92a73",
              "IPY_MODEL_a24afd1e88424b37b7693c894dfa2176"
            ],
            "layout": "IPY_MODEL_5c3648534fba4f0fa900e196601aec61"
          }
        },
        "268dab515c9a4960b44dd7a6ac8d7112": {
          "model_module": "@jupyter-widgets/controls",
          "model_name": "HTMLModel",
          "model_module_version": "1.5.0",
          "state": {
            "_dom_classes": [],
            "_model_module": "@jupyter-widgets/controls",
            "_model_module_version": "1.5.0",
            "_model_name": "HTMLModel",
            "_view_count": null,
            "_view_module": "@jupyter-widgets/controls",
            "_view_module_version": "1.5.0",
            "_view_name": "HTMLView",
            "description": "",
            "description_tooltip": null,
            "layout": "IPY_MODEL_261e72272148468f98ec7108b756ef6f",
            "placeholder": "​",
            "style": "IPY_MODEL_1e224c6a058344a28ec982132b0ddfa4",
            "value": "100%"
          }
        },
        "4d3dd72e2b844bb48d2ff15bcdc92a73": {
          "model_module": "@jupyter-widgets/controls",
          "model_name": "FloatProgressModel",
          "model_module_version": "1.5.0",
          "state": {
            "_dom_classes": [],
            "_model_module": "@jupyter-widgets/controls",
            "_model_module_version": "1.5.0",
            "_model_name": "FloatProgressModel",
            "_view_count": null,
            "_view_module": "@jupyter-widgets/controls",
            "_view_module_version": "1.5.0",
            "_view_name": "ProgressView",
            "bar_style": "success",
            "description": "",
            "description_tooltip": null,
            "layout": "IPY_MODEL_bef1dbc28341401cbe9de297e50ffeb9",
            "max": 70772,
            "min": 0,
            "orientation": "horizontal",
            "style": "IPY_MODEL_ca64b376a2e541afb8bef3d5c219f793",
            "value": 70772
          }
        },
        "a24afd1e88424b37b7693c894dfa2176": {
          "model_module": "@jupyter-widgets/controls",
          "model_name": "HTMLModel",
          "model_module_version": "1.5.0",
          "state": {
            "_dom_classes": [],
            "_model_module": "@jupyter-widgets/controls",
            "_model_module_version": "1.5.0",
            "_model_name": "HTMLModel",
            "_view_count": null,
            "_view_module": "@jupyter-widgets/controls",
            "_view_module_version": "1.5.0",
            "_view_name": "HTMLView",
            "description": "",
            "description_tooltip": null,
            "layout": "IPY_MODEL_41625268e6e346a7b17017a5fe65c8d2",
            "placeholder": "​",
            "style": "IPY_MODEL_72e4b265577348e294a2efb62d76c08d",
            "value": " 70772/70772 [00:33&lt;00:00, 2086.40it/s]"
          }
        },
        "5c3648534fba4f0fa900e196601aec61": {
          "model_module": "@jupyter-widgets/base",
          "model_name": "LayoutModel",
          "model_module_version": "1.2.0",
          "state": {
            "_model_module": "@jupyter-widgets/base",
            "_model_module_version": "1.2.0",
            "_model_name": "LayoutModel",
            "_view_count": null,
            "_view_module": "@jupyter-widgets/base",
            "_view_module_version": "1.2.0",
            "_view_name": "LayoutView",
            "align_content": null,
            "align_items": null,
            "align_self": null,
            "border": null,
            "bottom": null,
            "display": "inline-flex",
            "flex": null,
            "flex_flow": "row wrap",
            "grid_area": null,
            "grid_auto_columns": null,
            "grid_auto_flow": null,
            "grid_auto_rows": null,
            "grid_column": null,
            "grid_gap": null,
            "grid_row": null,
            "grid_template_areas": null,
            "grid_template_columns": null,
            "grid_template_rows": null,
            "height": null,
            "justify_content": null,
            "justify_items": null,
            "left": null,
            "margin": null,
            "max_height": null,
            "max_width": null,
            "min_height": null,
            "min_width": null,
            "object_fit": null,
            "object_position": null,
            "order": null,
            "overflow": null,
            "overflow_x": null,
            "overflow_y": null,
            "padding": null,
            "right": null,
            "top": null,
            "visibility": null,
            "width": "100%"
          }
        },
        "261e72272148468f98ec7108b756ef6f": {
          "model_module": "@jupyter-widgets/base",
          "model_name": "LayoutModel",
          "model_module_version": "1.2.0",
          "state": {
            "_model_module": "@jupyter-widgets/base",
            "_model_module_version": "1.2.0",
            "_model_name": "LayoutModel",
            "_view_count": null,
            "_view_module": "@jupyter-widgets/base",
            "_view_module_version": "1.2.0",
            "_view_name": "LayoutView",
            "align_content": null,
            "align_items": null,
            "align_self": null,
            "border": null,
            "bottom": null,
            "display": null,
            "flex": null,
            "flex_flow": null,
            "grid_area": null,
            "grid_auto_columns": null,
            "grid_auto_flow": null,
            "grid_auto_rows": null,
            "grid_column": null,
            "grid_gap": null,
            "grid_row": null,
            "grid_template_areas": null,
            "grid_template_columns": null,
            "grid_template_rows": null,
            "height": null,
            "justify_content": null,
            "justify_items": null,
            "left": null,
            "margin": null,
            "max_height": null,
            "max_width": null,
            "min_height": null,
            "min_width": null,
            "object_fit": null,
            "object_position": null,
            "order": null,
            "overflow": null,
            "overflow_x": null,
            "overflow_y": null,
            "padding": null,
            "right": null,
            "top": null,
            "visibility": null,
            "width": null
          }
        },
        "1e224c6a058344a28ec982132b0ddfa4": {
          "model_module": "@jupyter-widgets/controls",
          "model_name": "DescriptionStyleModel",
          "model_module_version": "1.5.0",
          "state": {
            "_model_module": "@jupyter-widgets/controls",
            "_model_module_version": "1.5.0",
            "_model_name": "DescriptionStyleModel",
            "_view_count": null,
            "_view_module": "@jupyter-widgets/base",
            "_view_module_version": "1.2.0",
            "_view_name": "StyleView",
            "description_width": ""
          }
        },
        "bef1dbc28341401cbe9de297e50ffeb9": {
          "model_module": "@jupyter-widgets/base",
          "model_name": "LayoutModel",
          "model_module_version": "1.2.0",
          "state": {
            "_model_module": "@jupyter-widgets/base",
            "_model_module_version": "1.2.0",
            "_model_name": "LayoutModel",
            "_view_count": null,
            "_view_module": "@jupyter-widgets/base",
            "_view_module_version": "1.2.0",
            "_view_name": "LayoutView",
            "align_content": null,
            "align_items": null,
            "align_self": null,
            "border": null,
            "bottom": null,
            "display": null,
            "flex": "2",
            "flex_flow": null,
            "grid_area": null,
            "grid_auto_columns": null,
            "grid_auto_flow": null,
            "grid_auto_rows": null,
            "grid_column": null,
            "grid_gap": null,
            "grid_row": null,
            "grid_template_areas": null,
            "grid_template_columns": null,
            "grid_template_rows": null,
            "height": null,
            "justify_content": null,
            "justify_items": null,
            "left": null,
            "margin": null,
            "max_height": null,
            "max_width": null,
            "min_height": null,
            "min_width": null,
            "object_fit": null,
            "object_position": null,
            "order": null,
            "overflow": null,
            "overflow_x": null,
            "overflow_y": null,
            "padding": null,
            "right": null,
            "top": null,
            "visibility": null,
            "width": null
          }
        },
        "ca64b376a2e541afb8bef3d5c219f793": {
          "model_module": "@jupyter-widgets/controls",
          "model_name": "ProgressStyleModel",
          "model_module_version": "1.5.0",
          "state": {
            "_model_module": "@jupyter-widgets/controls",
            "_model_module_version": "1.5.0",
            "_model_name": "ProgressStyleModel",
            "_view_count": null,
            "_view_module": "@jupyter-widgets/base",
            "_view_module_version": "1.2.0",
            "_view_name": "StyleView",
            "bar_color": null,
            "description_width": ""
          }
        },
        "41625268e6e346a7b17017a5fe65c8d2": {
          "model_module": "@jupyter-widgets/base",
          "model_name": "LayoutModel",
          "model_module_version": "1.2.0",
          "state": {
            "_model_module": "@jupyter-widgets/base",
            "_model_module_version": "1.2.0",
            "_model_name": "LayoutModel",
            "_view_count": null,
            "_view_module": "@jupyter-widgets/base",
            "_view_module_version": "1.2.0",
            "_view_name": "LayoutView",
            "align_content": null,
            "align_items": null,
            "align_self": null,
            "border": null,
            "bottom": null,
            "display": null,
            "flex": null,
            "flex_flow": null,
            "grid_area": null,
            "grid_auto_columns": null,
            "grid_auto_flow": null,
            "grid_auto_rows": null,
            "grid_column": null,
            "grid_gap": null,
            "grid_row": null,
            "grid_template_areas": null,
            "grid_template_columns": null,
            "grid_template_rows": null,
            "height": null,
            "justify_content": null,
            "justify_items": null,
            "left": null,
            "margin": null,
            "max_height": null,
            "max_width": null,
            "min_height": null,
            "min_width": null,
            "object_fit": null,
            "object_position": null,
            "order": null,
            "overflow": null,
            "overflow_x": null,
            "overflow_y": null,
            "padding": null,
            "right": null,
            "top": null,
            "visibility": null,
            "width": null
          }
        },
        "72e4b265577348e294a2efb62d76c08d": {
          "model_module": "@jupyter-widgets/controls",
          "model_name": "DescriptionStyleModel",
          "model_module_version": "1.5.0",
          "state": {
            "_model_module": "@jupyter-widgets/controls",
            "_model_module_version": "1.5.0",
            "_model_name": "DescriptionStyleModel",
            "_view_count": null,
            "_view_module": "@jupyter-widgets/base",
            "_view_module_version": "1.2.0",
            "_view_name": "StyleView",
            "description_width": ""
          }
        }
      }
    }
  },
  "nbformat": 4,
  "nbformat_minor": 0
}